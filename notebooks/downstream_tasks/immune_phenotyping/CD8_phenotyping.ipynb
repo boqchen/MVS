{
 "cells": [
  {
   "cell_type": "markdown",
   "id": "fbf9bb0a",
   "metadata": {},
   "source": [
    "## CD8+ phenptyping based on nature paper on Immune phenotyping : \n",
    "\n",
    "- Validating if area measurments, cell count and density calculation match from Marta \n",
    "- Plotting cells and annotations masks on CD8 IHC -- relevant for annotation transfer  \n",
    "- Nature paper: https://www.nature.com/articles/s41374-021-00653-y\n"
   ]
  },
  {
   "cell_type": "code",
   "execution_count": null,
   "id": "a783a6af",
   "metadata": {
    "ExecuteTime": {
     "end_time": "2022-08-03T09:07:03.127797Z",
     "start_time": "2022-08-03T09:06:26.143163Z"
    }
   },
   "outputs": [],
   "source": [
    "import numpy as np \n",
    "import os \n",
    "import glob\n",
    "import pandas as pd\n",
    "import xml.etree.ElementTree as ET\n",
    "import cv2\n",
    "import openslide\n",
    "import math\n",
    "import matplotlib.pyplot as plt\n",
    "import time \n",
    "import matplotlib.pyplot as plt\n",
    "from PIL import Image\n",
    "import math\n",
    "from sklearn import metrics \n",
    "\n"
   ]
  },
  {
   "cell_type": "code",
   "execution_count": null,
   "id": "e80f5fa5",
   "metadata": {
    "ExecuteTime": {
     "end_time": "2022-08-03T09:07:03.141057Z",
     "start_time": "2022-08-03T09:07:03.131277Z"
    }
   },
   "outputs": [],
   "source": [
    "base_CD8_cells = '/cluster/work/tumorp/share/st_data/usz_share/CD8_quantification/CD8_cells_coordinates' # positive cells \n",
    "base_CD8_regions = '/cluster/work/tumorp/share/st_data/usz_share/CD8_quantification/CD8_region_annotations' # global tumor/inv margin annotations\n",
    "base_CD8_annotations = '/cluster/work/tumorp/share/st_data/usz_share/CD8_quantification/TuPro_classifier_masks' # 5 regions annotations within each global regions \n",
    "base_CD8_imgs = '/cluster/work/tumorp/data_repository/study/'\n",
    "\n",
    "f_GT_CD8 = '/cluster/work/tumorp/share/st_data/usz_share/CD8_quantification/20220209_TuProcohort_CD8.xlsx' \n",
    "\n",
    "print(os.path.exists(base_CD8_cells), os.path.exists(base_CD8_regions), os.path.exists(base_CD8_annotations))\n"
   ]
  },
  {
   "cell_type": "code",
   "execution_count": null,
   "id": "beeb2814",
   "metadata": {
    "ExecuteTime": {
     "end_time": "2022-08-03T09:07:03.151294Z",
     "start_time": "2022-08-03T09:07:03.144079Z"
    }
   },
   "outputs": [],
   "source": [
    "def showimg(k, title, figsize = (15,15)):\n",
    "    plt.figure(figsize = figsize)\n",
    "    plt.title(title)\n",
    "    plt.imshow(k)#, cmap='gray')\n",
    "    plt.show()\n",
    "# ---------------------------------------------------\n",
    "\n",
    "def get_img_from_wsi(wsi_path, downsample_factor): \n",
    "    wsi = openslide.OpenSlide(wsi_path)\n",
    "    resolution = float(wsi.properties['openslide.mpp-x'])\n",
    "    level_for_plotting = wsi.get_best_level_for_downsample(downsample_factor)\n",
    "\n",
    "    img_for_plotting = wsi.read_region((0, 0), level_for_plotting, (wsi.level_dimensions[level_for_plotting]))\n",
    "    img_for_plotting = np.array(img_for_plotting.convert('RGB'))\n",
    "    return img_for_plotting, resolution\n",
    "\n",
    "# ---------------------------------------------------"
   ]
  },
  {
   "cell_type": "code",
   "execution_count": null,
   "id": "27a87dc6",
   "metadata": {
    "ExecuteTime": {
     "end_time": "2022-08-03T09:07:03.167749Z",
     "start_time": "2022-08-03T09:07:03.153964Z"
    }
   },
   "outputs": [],
   "source": [
    "# for each sample get cell count, area and density \n",
    "f_CD8_cells = glob.glob(base_CD8_cells + '/*tumor_center.csv')\n",
    "len(f_CD8_cells), f_CD8_cells[0]"
   ]
  },
  {
   "cell_type": "code",
   "execution_count": null,
   "id": "007e1011",
   "metadata": {
    "ExecuteTime": {
     "end_time": "2022-08-03T09:07:03.186710Z",
     "start_time": "2022-08-03T09:07:03.169782Z"
    }
   },
   "outputs": [],
   "source": [
    "# ---------------------------------------------------\n",
    "# getting mask of IM and tumor regions \n",
    "# ---------------------------------------------------\n",
    "def get_region_masks(f_wsi_CD8, f_regions, downsample_factor=32): \n",
    "\n",
    "    img_for_plotting, resolution = get_img_from_wsi(f_wsi_CD8, downsample_factor)\n",
    "    mask_annotated = np.zeros((img_for_plotting.shape), np.uint8)\n",
    "\n",
    "    tree = ET.parse(f_regions)\n",
    "    Annotation = tree.findall('Annotation')\n",
    "    labels_dict = {\"Tumor Center\":(255,0,0), \"IM\": (0,0,255)}\n",
    "\n",
    "    for j in range(len(Annotation)):\n",
    "        label = Annotation[j].get('Name')\n",
    "        mask_inclusion = np.zeros((img_for_plotting.shape), np.uint8)\n",
    "        mask_exclusion = np.zeros((img_for_plotting.shape), np.uint8)\n",
    "\n",
    "        if label in labels_dict.keys(): \n",
    "            n_regions = len(Annotation[j].findall('Regions/Region'))\n",
    "\n",
    "            for i in range(n_regions): \n",
    "                region = Annotation[j].findall('Regions/Region')[i]\n",
    "                exclusion = region.get('NegativeROA')\n",
    "                vertices = region.findall('Vertices/V')\n",
    "\n",
    "                # get vertices for the region\n",
    "                loc_temp = []\n",
    "                for counter, x in enumerate(vertices):\n",
    "                    loc_X = int(float(x.attrib['X']))\n",
    "                    loc_Y = int(float(x.attrib['Y']))\n",
    "                    loc_temp.append([loc_X, loc_Y])\n",
    "                loc_temp = np.asarray(loc_temp)\n",
    "                loc_temp = loc_temp / downsample_factor # just to plot the coordinates on a downsampled image\n",
    "                loc_temp = loc_temp.astype(int)\n",
    "\n",
    "                if int(exclusion)==1: \n",
    "                    mask_exclusion = cv2.drawContours(mask_exclusion, [loc_temp], 0, labels_dict[label], -1)\n",
    "\n",
    "                elif int(exclusion)!=1: \n",
    "                    mask_inclusion = cv2.drawContours(mask_inclusion, [loc_temp], 0, labels_dict[label], -1)               \n",
    "\n",
    "            # for label merge inclusion exclusion masks \n",
    "            mask_label = mask_inclusion\n",
    "            mask_label[np.where(mask_inclusion==mask_exclusion)]=0\n",
    "\n",
    "            mask_annotated = cv2.bitwise_or(mask_annotated, mask_label)\n",
    "    overlay = cv2.addWeighted(img_for_plotting,0.7,mask_annotated,0.3,0)\n",
    "    return overlay\n",
    "\n",
    "# ---------------------------------------------------\n",
    "# getting mask of 5 regions annotated \n",
    "# ---------------------------------------------------\n",
    "def get_annotation_masks(f_annotation, level=3): \n",
    "    '''\n",
    "    GT colors: \n",
    "    tumor: red [255,   0,   0], stroma: green [0,128,0], positive lymphocytes: pink [255,0,255]\n",
    "    pigment : black [0,0,0], blood and necrosis : red/brown [192,64,0], white space: yellow [255,255,0]    \n",
    "    '''\n",
    "    wsi = openslide.OpenSlide(f_annotation) # tif file \n",
    "    img = wsi.read_region((0, 0), level, (wsi.level_dimensions[level]))\n",
    "    img = np.array(img.convert('RGB'))\n",
    "    \n",
    "    # count of pixels for tumor and stroma region for iCD8 and sCD8+ calculations \n",
    "    n_tumor_pixels = np.count_nonzero((img == [255, 0, 0]).all(axis = 2))\n",
    "    n_stroma_pixels = np.count_nonzero((img == [0,   128,   0]).all(axis = 2)) + np.count_nonzero((img == [255,   0,   255]).all(axis = 2))\n",
    "    \n",
    "    # getting total area for each region in mm2\n",
    "    resolution_level =  wsi.level_downsamples[level] * 0.3 #* 10**(-3) # resolution as shared by Marta: 0.3um/pixel, converting in mm\n",
    "    \n",
    "    area_tumor = (n_tumor_pixels*(resolution_level**2)) # in um2\n",
    "    area_stroma = (n_stroma_pixels*(resolution_level**2)) # in um2\n",
    "    return area_tumor, area_stroma, img\n"
   ]
  },
  {
   "cell_type": "code",
   "execution_count": null,
   "id": "2ab85d19",
   "metadata": {
    "ExecuteTime": {
     "end_time": "2022-08-03T09:07:08.425751Z",
     "start_time": "2022-08-03T09:07:03.188611Z"
    }
   },
   "outputs": [],
   "source": [
    "# load GT CD8 calculations from Marta in pd df \n",
    "xl = pd.ExcelFile(f_GT_CD8)\n",
    "df = xl.parse(\"Tabelle1\")\n",
    "df = df[['Case_ID', 'Analysis_Region', 'Revised immune diagnosis', 'Density Tumor', 'Density Stroma total', 'Tumor Area (um²)',\n",
    "  'Positive Lymphocytes Area (um²)', 'Stroma Area (um²)', 'Tumor:_AP_Positive_Cells', 'Stroma:_AP_Positive_Cells', 'Positive_Lymphocytes:_AP_Positive_Cells']]\n",
    "df  \n",
    "   "
   ]
  },
  {
   "cell_type": "markdown",
   "id": "1c4cc3e8",
   "metadata": {},
   "source": [
    "### Validating if area measurments, cell count and density calculation match \n",
    "- comparing the individual sample calculations match with the ones in global sumamry excel file \n",
    "- Comments from Marta: \n",
    "    - the cell counts might a bit off. Why: the summary excel file was generated, the HALO software got updated and then the individual sample files were generated\n",
    "- the area measure might also be slightly different as I am using a low resolution image for counting \n",
    "- Therefore, if the measures are off by say 5%, it is ok \n",
    "- In the end need to see if it has any effect on the immune phenotyping of samples "
   ]
  },
  {
   "cell_type": "code",
   "execution_count": null,
   "id": "93218993",
   "metadata": {
    "ExecuteTime": {
     "end_time": "2022-08-03T09:07:08.778153Z",
     "start_time": "2022-08-03T09:07:08.772562Z"
    }
   },
   "outputs": [],
   "source": [
    "def get_cell_count(df, cell_types): \n",
    "    # counting cells from each cell type \n",
    "    cell_type_count = {}\n",
    "    for cell_type in cell_types: \n",
    "        cell_type_count[cell_type] = len(df[(df['Classifier Label'] == cell_type)])\n",
    "    return cell_type_count\n",
    "\n",
    "def get_immune_type(iCD8_density, sCD8_density):\n",
    "    # thresholds obtained from nature paper: https://www.nature.com/articles/s41374-021-00653-y\n",
    "    if (iCD8_density < 0.00004 and sCD8_density <= 0.0006): \n",
    "        immune_type = 'desert'\n",
    "    elif (iCD8_density >= 0.00004 and sCD8_density < 0.002): \n",
    "        immune_type = 'excluded'\n",
    "    elif (iCD8_density >= 0.00004 and sCD8_density > 0.002): \n",
    "        immune_type = 'inflamed'    \n",
    "    \n",
    "    return immune_type "
   ]
  },
  {
   "cell_type": "code",
   "execution_count": null,
   "id": "e6186025",
   "metadata": {
    "ExecuteTime": {
     "end_time": "2022-08-03T09:22:55.353157Z",
     "start_time": "2022-08-03T09:07:46.761589Z"
    }
   },
   "outputs": [],
   "source": [
    "df_array = []\n",
    "cell_types= ['Stroma', 'Tumor', 'Positive Lymphocytes']\n",
    "plot_annotations = False\n",
    "error_threshold = 5 # in percent \n",
    "\n",
    "for f_cells in glob.glob(base_CD8_cells + '/*tumor_center.csv'): \n",
    "    sample = f_cells.split('/')[-1].split('-')[0].split('_')[-1]\n",
    "    region = f_cells.split('/')[-1].split('Data_')[-1].split('.')[0]\n",
    "#     print(f_cells)\n",
    "        \n",
    "    if region == 'tumor_center': # as cell count only from tumor region relevant \n",
    "        print(sample)\n",
    "        \n",
    "        f_regions = glob.glob(base_CD8_regions + '/' + sample + '*')[0]\n",
    "        f_annotation = glob.glob(base_CD8_annotations + '/' + sample + '*_tumor_center.tif')[0] \n",
    "\n",
    "        try: \n",
    "            f_wsi_CD8 = glob.glob(base_CD8_imgs + '/*/' + sample + '/digpath_zurich/raw/*/' + '*CD8_*.tif')[0]\n",
    "            \n",
    "            # get GT for sample from the summary excel file  \n",
    "            df_sample_GT = df.loc[(df['Case_ID'] == sample) & ((df['Analysis_Region'] == 'Tumor Center') | (df['Analysis_Region'] == 'Layer 1'))]\n",
    "            \n",
    "            # ---- get region maps ---- \n",
    "            if plot_annotations:  \n",
    "                regions_overlay = get_region_masks(f_wsi_CD8, f_regions, downsample_factor=32)\n",
    "\n",
    "            # ---- get area of stroma and tumor regions  ----  \n",
    "            area_tumor, area_stroma, img_annots_tumor = get_annotation_masks(f_annotation)  # from annotation mask\n",
    "            area_tumor_gt = df_sample_GT['Tumor Area (um²)'].to_numpy()[0] # Ground truth (GT) from HALO excel file \n",
    "            area_stroma_gt = df_sample_GT['Positive Lymphocytes Area (um²)'].to_numpy()[0] + df_sample_GT['Stroma Area (um²)'].to_numpy()[0]\n",
    "            \n",
    "            error_area_tumor = (abs(area_tumor - area_tumor_gt)/area_tumor_gt*100) < error_threshold\n",
    "            error_area_stroma = (abs(area_stroma - area_stroma_gt)/area_stroma_gt*100) < error_threshold\n",
    "            \n",
    "            # ---- get cell counts ---- \n",
    "            df_cells = pd.read_csv(f_cells)\n",
    "            df_cells = df_cells[(df_cells['AP Positive'] == 1)]\n",
    "\n",
    "            cell_type_count = get_cell_count(df_cells, cell_types) \n",
    "            iCD8 = cell_type_count['Tumor']\n",
    "            sCD8 = cell_type_count['Stroma'] + cell_type_count['Positive Lymphocytes']\n",
    "            \n",
    "            iCD8_gt = df_sample_GT['Tumor:_AP_Positive_Cells'].to_numpy()[0]\n",
    "            sCD8_gt = df_sample_GT['Stroma:_AP_Positive_Cells'].to_numpy()[0] + df_sample_GT['Positive_Lymphocytes:_AP_Positive_Cells'].to_numpy()[0]\n",
    "            \n",
    "            error_iCD8 = (abs(iCD8 - iCD8_gt)/iCD8_gt*100) < error_threshold\n",
    "            error_sCD8 = (abs(sCD8 - sCD8_gt)/sCD8_gt*100) < error_threshold\n",
    "            \n",
    "            # ---- get density of CD8+ cells in stroma and tumor within tumor compartment ----\n",
    "            iCD8_density = iCD8 / area_tumor\n",
    "            sCD8_density = sCD8 / area_stroma\n",
    "            \n",
    "            iCD8_density_gt = df_sample_GT['Density Tumor'].to_numpy()[0]\n",
    "            sCD8_density_gt = df_sample_GT['Density Stroma total'].to_numpy()[0]\n",
    "            \n",
    "            error_iCD8_density = (abs(iCD8_density - iCD8_density_gt)/iCD8_density_gt*100) < error_threshold\n",
    "            error_sCD8_density = (abs(sCD8_density - sCD8_density_gt)/sCD8_density_gt*100) < error_threshold\n",
    "            \n",
    "            # ---- Immune phenotyping ---- \n",
    "            immune_type_reported = df_sample_GT['Revised immune diagnosis'].to_numpy()[0]\n",
    "            immune_type_gt = get_immune_type(iCD8_density_gt, sCD8_density_gt)\n",
    "            immune_type = get_immune_type(iCD8_density, sCD8_density)\n",
    "                        \n",
    "            df_array.append([sample, immune_type_reported, immune_type_gt, immune_type,  \n",
    "                             iCD8_density_gt, iCD8_density, error_iCD8_density, \n",
    "                             sCD8_density_gt, sCD8_density, error_sCD8_density,\n",
    "                             area_tumor_gt, area_tumor, error_area_tumor, \n",
    "                             area_stroma_gt, area_stroma, error_area_stroma, \n",
    "                             iCD8_gt, iCD8, error_iCD8, sCD8_gt, sCD8, error_sCD8 \n",
    "                             ])\n",
    "\n",
    "            if plot_annotations: # if want to visulise the annotations masks  \n",
    "                f, ax = plt.subplots(1, 2, figsize=(40, 20))\n",
    "                ax[0].imshow(regions_overlay)\n",
    "                ax[0].set_title(sample + ' regions', fontsize=30)\n",
    "                ax[1].imshow(img_annots_tumor)\n",
    "                ax[1].set_title(sample + ' annotation Tumor', fontsize=30)\n",
    "                plt.show()\n",
    "\n",
    "        except Exception as e: print(e)\n"
   ]
  },
  {
   "cell_type": "code",
   "execution_count": null,
   "id": "9b4e97c1",
   "metadata": {
    "ExecuteTime": {
     "end_time": "2022-08-03T09:22:56.033753Z",
     "start_time": "2022-08-03T09:22:55.485790Z"
    }
   },
   "outputs": [],
   "source": [
    "df_final = pd.DataFrame(df_array, columns = ['sample', 'immune_type_reported', 'immune_type_gt', 'immune_type', \n",
    "                                            'iCD8_density_gt', 'iCD8_density', 'error_iCD8_density', \n",
    "                                            'sCD8_density_gt', 'sCD8_density', 'error_sCD8_density', \n",
    "                                            'area_tumor_gt', 'area_tumor', 'error_area_tumor', \n",
    "                                            'area_stroma_gt', 'area_stroma', 'error_area_stroma',\n",
    "                                            'iCD8_gt', 'iCD8', 'error_iCD8', 'sCD8_gt', 'sCD8', 'error_sCD8'])\n",
    "\n",
    "df_final"
   ]
  },
  {
   "cell_type": "code",
   "execution_count": null,
   "id": "0e680cde",
   "metadata": {
    "ExecuteTime": {
     "end_time": "2022-08-03T09:22:56.105263Z",
     "start_time": "2022-08-03T09:22:56.036316Z"
    }
   },
   "outputs": [],
   "source": [
    "df_final.to_csv('df_final.csv', sep='\\t', encoding='utf-8', index=False)"
   ]
  },
  {
   "cell_type": "code",
   "execution_count": null,
   "id": "b2fa6783",
   "metadata": {
    "ExecuteTime": {
     "end_time": "2022-08-03T09:22:56.155484Z",
     "start_time": "2022-08-03T09:22:56.107463Z"
    }
   },
   "outputs": [],
   "source": [
    "df_final = pd.read_csv(\"df_final.csv\", sep = '\\t')\n",
    "df_final"
   ]
  },
  {
   "cell_type": "code",
   "execution_count": null,
   "id": "54f7242f",
   "metadata": {
    "ExecuteTime": {
     "end_time": "2022-08-03T09:22:56.174248Z",
     "start_time": "2022-08-03T09:22:56.157190Z"
    }
   },
   "outputs": [],
   "source": [
    "# if immune phenotype of GT and per sample matches -- the immune phenotype status is the same for both \n",
    "# therefore no impace of HALO versions and downsample on the annotation mask towards immune phenptype \n",
    "\n",
    "matched, un_matched = df_final[df_final['immune_type_gt']==df_final['immune_type']].shape[0],df_final[df_final['immune_type_gt']!=df_final['immune_type']].shape[0]\n",
    "matched, un_matched\n",
    "\n"
   ]
  },
  {
   "cell_type": "code",
   "execution_count": null,
   "id": "229a0584",
   "metadata": {
    "ExecuteTime": {
     "end_time": "2022-08-03T09:24:08.263987Z",
     "start_time": "2022-08-03T09:24:08.129930Z"
    }
   },
   "outputs": [],
   "source": [
    "# if immune phenotype GT matches immune_type_reported -- accuracy reported in paper: \n",
    "# accuracy is 64.2 % -- seems low -- excluded cases get confused with inflamed -- mailed Marta and Viktor to ask if GT is correct \n",
    "# response from Viktor: \n",
    "    # Improtant to not that these are two different methods – the immune phenotype reported is the “in study” reported phenotype by light-microscopic pathologist assessment. \n",
    "    # This is a moderately reproducible and semi-quantitative approach, which was a core motivation for the development of strictly quantitative, digital assessment methods.\n",
    "    # immune_type_CD8+ is the digital immune phenotype and should serve as GT for comparison with Multi-V-stain.\n",
    "\n",
    "matched, un_matched = df_final[df_final['immune_type_reported']==df_final['immune_type']].shape[0],df_final[df_final['immune_type_reported']!=df_final['immune_type']].shape[0]\n",
    "accuracy = matched / (matched+un_matched) *100\n",
    "\n",
    "labels = ['excluded', 'inflamed', 'desert']\n",
    "confusion_matrix = metrics.confusion_matrix(df_final['immune_type_reported'], df_final['immune_type_gt'], labels) \n",
    "\n",
    "matched, un_matched, accuracy, confusion_matrix\n",
    "\n"
   ]
  },
  {
   "cell_type": "markdown",
   "id": "f27e0964",
   "metadata": {},
   "source": [
    "### Plotting cells and annotations masks on CD8 IHC -- relevant for annotation transfer  \n",
    "- for annotation transfer, will have to first align the images, obtain the transformation matrix and then apply it to the cell coordinates to get location of CD8+ cells in H&E image \n",
    "- Note: the 5 regions annotated inside the tumor compartment in \"img_annots_tumor\" would need additional x and y shift in the transformation matrix  \n"
   ]
  },
  {
   "cell_type": "code",
   "execution_count": null,
   "id": "5024f139",
   "metadata": {
    "ExecuteTime": {
     "start_time": "2022-08-03T10:08:34.643Z"
    }
   },
   "outputs": [],
   "source": [
    "downsample_factor = 32\n",
    "\n",
    "for f_sample_cells in glob.glob(base_CD8_cells + '/*tumor_center.csv'): \n",
    "    sample = f_sample_cells.split('/')[-1].split('-')[0]\n",
    "    f_wsi_CD8 = glob.glob(base_CD8_imgs + '/*/' + sample + '/digpath_zurich/raw/*/' + '*CD8_*.tif')[0]\n",
    "    f_regions = glob.glob(base_CD8_regions + '/' + sample + '*')[0]\n",
    "    f_annotation = glob.glob(base_CD8_annotations + '/' + sample + '*_tumor_center.tif')[0] \n",
    "        \n",
    "    df = pd.read_csv(f_sample_cells) \n",
    "    df_cells = df[['XMin', 'XMax', 'YMin', 'YMax', 'Classifier Label', 'AP Positive']]\n",
    "    df_cells = df_cells[(df_cells['AP Positive'] == 1)].reset_index()\n",
    "    \n",
    "    # ---- plotting regions from region annotations file ----\n",
    "    regions_overlay = get_region_masks(f_wsi_CD8, f_regions, downsample_factor=32)\n",
    "    _, _, img_annots_tumor = get_annotation_masks(f_annotation)  # from annotation mask\n",
    "    print(sample)\n",
    "    \n",
    "    f, ax = plt.subplots(1, 2, figsize=(6, 4))\n",
    "    plt.figure(1, figsize = (6,4))\n",
    "    \n",
    "    plt.subplot(1, 2, 1)\n",
    "    plt.imshow(regions_overlay)\n",
    "    plt.title(sample + ' regions')\n",
    "    plt.subplot(1, 2, 2)\n",
    "    plt.imshow(img_annots_tumor)\n",
    "    plt.title(sample + ' annotation Tumor')    \n",
    "    plt.show()\n",
    "                \n",
    "    # ---- plotting in positive cells on low resolution CD8 img ---- \n",
    "    df_cells_downsample = df_cells.copy()\n",
    "    df_cells_downsample[['XMin', 'XMax', 'YMin', 'YMax']] = df_cells[['XMin', 'XMax', 'YMin', 'YMax']].div(downsample_factor).astype('int32')\n",
    "    \n",
    "    # just plotting xmin, ymin as rectangle mostly a dot in low resolution image \n",
    "    img_for_plotting = get_img_from_wsi(f_wsi_CD8, downsample_factor)[0]\n",
    "\n",
    "    # cell annotations: \n",
    "    celltype_colors = {'Stroma':(0,255,0), 'Tumor':(0,0,255), 'Positive Lymphocytes':(255,0,0)}\n",
    "    cell_types = celltype_colors.keys() # df_cells_downsample['Classifier Label'].unique() \n",
    "\n",
    "    # plotting \n",
    "    i = 1\n",
    "    plt.figure(2, figsize = (12,8))\n",
    "    plt.subplot(1, 4, i)\n",
    "    plt.imshow(img_for_plotting)\n",
    "    plt.title('CD8 img at downsample ' + str(downsample_factor), fontsize=9)\n",
    "    \n",
    "    for cell_type in cell_types: \n",
    "        df_cell_type = df_cells_downsample[df_cells_downsample['Classifier Label'] == cell_type].reset_index()\n",
    "        coords = df_cell_type[['XMin', 'YMin']].to_numpy()\n",
    "        print('CD8+ cells in ', cell_type, len(coords))\n",
    "        mask_cells = img_for_plotting.copy()\n",
    "        \n",
    "        radius = 8\n",
    "        for coord in coords:         \n",
    "            cv2.circle(mask_cells,tuple(coord), radius, celltype_colors[cell_type], -1)\n",
    "        \n",
    "        i = i+1\n",
    "        plt.subplot(1, 4, i)\n",
    "        plt.imshow(mask_cells)\n",
    "        plt.title('CD8+ cells in ' + cell_type, fontsize=9)\n",
    "\n",
    "    plt.show()\n",
    "    plt.clf()\n",
    "    plt.cla()\n",
    "    plt.close()\n",
    "\n",
    "    "
   ]
  },
  {
   "cell_type": "code",
   "execution_count": null,
   "id": "843af63a",
   "metadata": {},
   "outputs": [],
   "source": []
  }
 ],
 "metadata": {
  "kernelspec": {
   "display_name": "Python mvs_env_as",
   "language": "python",
   "name": "mvs_env_as"
  },
  "language_info": {
   "codemirror_mode": {
    "name": "ipython",
    "version": 3
   },
   "file_extension": ".py",
   "mimetype": "text/x-python",
   "name": "python",
   "nbconvert_exporter": "python",
   "pygments_lexer": "ipython3",
   "version": "3.8.12"
  }
 },
 "nbformat": 4,
 "nbformat_minor": 5
}
