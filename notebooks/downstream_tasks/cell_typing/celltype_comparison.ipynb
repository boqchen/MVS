{
 "cells": [
  {
   "cell_type": "code",
   "execution_count": null,
   "id": "b7c93b62",
   "metadata": {},
   "outputs": [],
   "source": [
    "import os\n",
    "import numpy as np\n",
    "import pandas as pd\n",
    "from pathlib import Path\n",
    "import json\n",
    "\n",
    "import matplotlib.pyplot as plt\n",
    "import seaborn as sns\n",
    "\n",
    "import sys \n",
    "root_code = os.path.dirname(os.path.dirname(os.path.dirname(os.getcwd())))\n",
    "sys.path.insert(0, root_code)\n",
    "\n",
    "\n",
    "from codebase.utils.constants import *\n",
    "from codebase.utils.eval_utils import *\n",
    "from codebase.utils.metrics import get_density_bins"
   ]
  },
  {
   "cell_type": "markdown",
   "id": "fd5cf482",
   "metadata": {},
   "source": [
    "# Settings"
   ]
  },
  {
   "cell_type": "code",
   "execution_count": null,
   "id": "06dccac2",
   "metadata": {},
   "outputs": [],
   "source": [
    "project_path = Path('/raid/sonali/project_mvs/') #Path('/cluster/work/grlab/projects/projects2021-multivstain/')\n",
    "cv_split = 'split3'\n",
    "data_set = 'test'\n",
    "level = 2\n",
    "submission_id=\"mj3pqeyk_dataaug-v2-flip_split3_selected-snr_no-wt_no-checkerboard\"\n",
    "\n",
    "# which epoch to use (best, last, can also be a list of epochs)\n",
    "epoch = get_best_epoch_w_imgs(project_path, submission_id)\n",
    "#epoch = get_last_epoch_w_imgs(project_path, submission_id)\n",
    "#epoch = 'epoch93-1'"
   ]
  },
  {
   "cell_type": "code",
   "execution_count": null,
   "id": "71fceb35",
   "metadata": {},
   "outputs": [],
   "source": [
    "PROJECT_PATH = Path(project_path)\n",
    "\n",
    "# Get job args\n",
    "job_args = json.load(open(PROJECT_PATH.joinpath('results',submission_id, 'args.txt')))\n",
    "cv_split = job_args['cv_split']\n",
    "# Get sample_roi list for s given split and data_set\n",
    "cv = json.load(open(PROJECT_PATH.joinpath(CV_SPLIT_ROIS_PATH)))\n",
    "sample_rois = cv[cv_split][data_set]\n",
    "\n",
    "\n",
    "GT_PATH = PROJECT_PATH.joinpath('meta', 'imc_gt-celltype-predictions','rf-cell_type-selected_snr-raw_clip99_arc_otsu3_std_minmax_split3-r5-ntrees100-maxdepth30', cv_split)\n",
    "#GT_PATH = PROJECT_PATH.joinpath('meta', 'imc_gt-celltype-predictions','rf-cell_type-prots_pseudo_multiplex-raw_clip99_arc_otsu3_std_minmax_split3-r5-ntrees100-maxdepth30', cv_split)\n",
    "\n",
    "PRED_PATH = PROJECT_PATH.joinpath('results', submission_id, data_set+'_ct', epoch, 'level_'+str(level))\n"
   ]
  },
  {
   "cell_type": "code",
   "execution_count": null,
   "id": "83132251",
   "metadata": {},
   "outputs": [],
   "source": [
    "SAVE_PATH = project_path.joinpath('results',submission_id,data_set+'_pics', epoch, 'level_'+str(level))\n",
    "if not os.path.exists(SAVE_PATH):\n",
    "    SAVE_PATH.mkdir(parents=True, exist_ok=False)\n",
    "dry_run = False\n",
    "save_fname = submission_id.split('_')[0]"
   ]
  },
  {
   "cell_type": "markdown",
   "id": "5048738c",
   "metadata": {},
   "source": [
    "# Compare number of detected cells per cell type"
   ]
  },
  {
   "cell_type": "code",
   "execution_count": null,
   "id": "b0e1d8f5",
   "metadata": {},
   "outputs": [],
   "source": [
    "ct_counts_all = pd.DataFrame()\n",
    "for s_roi in sample_rois:\n",
    "    gt = pd.read_csv(GT_PATH.joinpath(s_roi+'.tsv'), sep='\\t', index_col=[0])\n",
    "    pred = pd.read_csv(PRED_PATH.joinpath(s_roi+'.tsv'), sep='\\t', index_col=[0])\n",
    "    # Get cell-type counts\n",
    "    gt_cell_type_counts = gt.pred_cell_type.value_counts().to_dict() \n",
    "    pred_cell_type_counts = pred.pred_cell_type.value_counts().to_dict()\n",
    "    \n",
    "    ct_counts = pd.DataFrame(index=CELL_TYPES, columns=['GT', 'Prediction'])\n",
    "    for ct in CELL_TYPES:\n",
    "        ct_counts.loc[ct, 'GT'] = gt_cell_type_counts[ct] if ct in gt_cell_type_counts.keys() else 0 \n",
    "        ct_counts.loc[ct, 'Prediction'] = pred_cell_type_counts[ct] if ct in pred_cell_type_counts.keys() else 0 \n",
    "    ct_counts['sample_roi'] = s_roi\n",
    "    ct_counts_all = pd.concat([ct_counts_all, ct_counts], axis=0)\n",
    "\n",
    "ct_counts_all['sample_id'] = [x.split('_')[0] for x in ct_counts_all.sample_roi.to_list()]\n",
    "ct_counts_all.index.name = 'cell_type'\n",
    "ct_counts_all = ct_counts_all.reset_index(drop=False)"
   ]
  },
  {
   "cell_type": "code",
   "execution_count": null,
   "id": "fdc54117",
   "metadata": {
    "scrolled": true
   },
   "outputs": [],
   "source": [
    "logscale = True\n",
    "add_spcorr = True\n",
    "cts = [x for x in CELL_TYPES if x !='other']\n",
    "# whether to color by the slice-slice similarity derived from comparing nuclei density between H&E and GT IMC\n",
    "color_by_nuclei = True #False\n",
    "\n",
    "if color_by_nuclei:\n",
    "    nuclei_pcorr = pd.read_csv(project_path.joinpath('meta','nuclei_density', 'nuclei_density-he_imc-'+'all'+'-'+'pcorr'+'-max'+'1024'+'.tsv'), sep='\\t', index_col=[0])\n",
    "    nuclei_pcorr = nuclei_pcorr.loc[:,['pcorr_64']] #pcorr_32\n",
    "    nuclei_pcorr.columns = ['nuclei_sim']\n",
    "    # group ROIs based on pcorr median\n",
    "    nuclei_pcorr['nuclei_slice_sim'] = ['high' if x>=nuclei_pcorr['nuclei_sim'].median() else 'low' for x in nuclei_pcorr['nuclei_sim']]\n",
    "    ct_counts_all = ct_counts_all.merge(nuclei_pcorr.reset_index(), on='sample_roi', how='left')\n",
    "\n",
    "fig, axes = plt.subplots(1, len(cts), figsize=(30,4))\n",
    "spcorr_all = dict()\n",
    "for i,ct in enumerate(cts):\n",
    "    plot_df = ct_counts_all.loc[ct_counts_all.cell_type==ct,:]\n",
    "    # chage to log scale\n",
    "    if logscale:\n",
    "        plot_df['GT'] = plot_df['GT'].apply(lambda x: np.log(x+1))\n",
    "        plot_df['Prediction'] = plot_df['Prediction'].apply(lambda x: np.log(x+1))\n",
    "    axlim = (min(plot_df['GT'].min(), plot_df['Prediction'].min()), max(plot_df['GT'].max(), plot_df['Prediction'].max()))\n",
    "    if color_by_nuclei:\n",
    "        sns.scatterplot(x='Prediction', y='GT', data=plot_df.sort_values('nuclei_slice_sim'), ax=axes[i], hue='nuclei_slice_sim', palette='Accent', legend=(i== len(cts)-1))\n",
    "    else:\n",
    "        sns.scatterplot(x='Prediction', y='GT', data=plot_df, ax=axes[i])\n",
    "    ylab = 'GT cell counts'\n",
    "    xlab = 'Predicted cell counts'\n",
    "    if logscale:\n",
    "        ylab = ylab+' (log(x+1))'\n",
    "        xlab = xlab+' (log(x+1))'\n",
    "    axes[i].set_ylabel(ylab)\n",
    "    axes[i].set_xlabel(xlab)\n",
    "    title = ct\n",
    "    if add_spcorr:\n",
    "        spcorr = plot_df.loc[:,['GT','Prediction']].corr(method='spearman').iloc[0,1]\n",
    "        spcorr_all[ct] = spcorr\n",
    "        title = title+'\\n  spcorr: '+str(round(spcorr,2))\n",
    "        if color_by_nuclei:\n",
    "            for nuc_class in sorted(plot_df['nuclei_slice_sim'].unique()):\n",
    "                spcorr_all[ct+' | '+nuc_class] = plot_df.loc[plot_df['nuclei_slice_sim']==nuc_class,['GT','Prediction']].corr(method='spearman').iloc[0,1]\n",
    "        spcorr_all[ct] = spcorr\n",
    "    axes[i].set_title(title)\n",
    "    axes[i].set_box_aspect(1)\n",
    "\n",
    "    minmax = min(plot_df['GT'].max(), plot_df['Prediction'].max())\n",
    "    minmin = min(plot_df['GT'].min(), plot_df['Prediction'].min())\n",
    "    axes[i].plot([minmin,minmax], [minmin,minmax], color='lightgrey', linestyle='--')\n",
    "if not dry_run:\n",
    "    if color_by_nuclei:\n",
    "        plt.savefig(SAVE_PATH.joinpath(save_fname+'-cts_corr_by_nuclei.png'), bbox_inches='tight', dpi=300)\n",
    "        plt.savefig(SAVE_PATH.joinpath(save_fname+'-cts_corr_by_nuclei.pdf'), bbox_inches='tight', dpi=300)\n",
    "    else:\n",
    "        plt.savefig(SAVE_PATH.joinpath(save_fname+'-cts_corr.png'), bbox_inches='tight', dpi=300)\n",
    "        plt.savefig(SAVE_PATH.joinpath(save_fname+'-cts_corr.pdf'), bbox_inches='tight', dpi=300)\n",
    "plt.show()"
   ]
  },
  {
   "cell_type": "code",
   "execution_count": null,
   "id": "92f2aa48",
   "metadata": {},
   "outputs": [],
   "source": [
    "spcorr_all = pd.DataFrame({'cell_type':spcorr_all.keys(), 'spcorr': spcorr_all.values()}).set_index('cell_type')\n",
    "spcorr_all = round(spcorr_all.loc[cts,:],2)\n",
    "print(spcorr_all.to_latex(escape=False))"
   ]
  },
  {
   "cell_type": "code",
   "execution_count": null,
   "id": "ab73691b",
   "metadata": {},
   "outputs": [],
   "source": [
    "plot_df = ct_counts_all\n",
    "plot_df = plot_df.loc[:,['cell_type', 'nuclei_slice_sim', 'GT', 'Prediction']].melt(id_vars=['cell_type', 'nuclei_slice_sim'], var_name='datatype')\n",
    "for ct in [x for x in sorted(plot_df.cell_type.unique()) if x!=\"other\"]:\n",
    "    sns.kdeplot(x='value', data=plot_df.loc[plot_df.cell_type==ct,:], hue='datatype', cut=0)\n",
    "    plt.title(ct)\n",
    "    plt.show()"
   ]
  },
  {
   "cell_type": "markdown",
   "id": "30b74f11",
   "metadata": {},
   "source": [
    "# Number of detected cells per cell type by metadata"
   ]
  },
  {
   "cell_type": "code",
   "execution_count": null,
   "id": "07e0ccc2",
   "metadata": {},
   "outputs": [],
   "source": [
    "meta = pd.read_csv(PROJECT_PATH.joinpath('meta', 'melanoma-merged_clinical_data-v8.tsv'), sep='\\t')\n",
    "ct_counts_all = ct_counts_all.merge(meta.loc[:,['tupro_id', 'subtype_group', 'cd8_phenotype_revised']], left_on='sample_id', right_on='tupro_id', how='left')"
   ]
  },
  {
   "cell_type": "code",
   "execution_count": null,
   "id": "032ac88f",
   "metadata": {
    "scrolled": true
   },
   "outputs": [],
   "source": [
    "for ct in cts:\n",
    "    plot_df = ct_counts_all.loc[ct_counts_all.cell_type==ct,:]\n",
    "    sns.boxplot(x='cd8_phenotype_revised', y='Prediction', data=plot_df)\n",
    "    plt.title(ct)\n",
    "    plt.show()"
   ]
  },
  {
   "cell_type": "markdown",
   "id": "9a9db35e",
   "metadata": {},
   "source": [
    "# Compare cell-type density maps at different resolutions"
   ]
  },
  {
   "cell_type": "code",
   "execution_count": null,
   "id": "34242eb8",
   "metadata": {},
   "outputs": [],
   "source": [
    "# assign colors to cell-types\n",
    "from matplotlib.colors import ListedColormap\n",
    "cmap_sel = plt.get_cmap('Set1')\n",
    "cmap_sel = ListedColormap(cmap_sel(np.arange(9)))\n",
    "cts = [x for x in CELL_TYPES if x!='other']\n",
    "color_palette = dict(zip(cts, cmap_sel.colors))"
   ]
  },
  {
   "cell_type": "code",
   "execution_count": null,
   "id": "d9e35f51",
   "metadata": {
    "scrolled": true
   },
   "outputs": [],
   "source": [
    "bin_lim = 1000//(2**(level-2))\n",
    "axmax = 1024//(2**(level-2))\n",
    "resolutions = [32,64,128,256]\n",
    "\n",
    "pcorr_df_all = pd.DataFrame()\n",
    "for res in resolutions:\n",
    "    desired_resolution_px = res//(2**(level-2))\n",
    "    x_bins, y_bins = get_density_bins(desired_resolution_px, bin_lim, axmax)    \n",
    "    for s_roi in sample_rois:\n",
    "        gt = pd.read_csv(GT_PATH.joinpath(s_roi+'.tsv'), sep='\\t', index_col=[0])\n",
    "        gt['present'] = 1\n",
    "        gt = gt.pivot(index=['X', 'Y'], columns='pred_cell_type', values='present').fillna(0).reset_index(drop=False)\n",
    "        pred = pd.read_csv(PRED_PATH.joinpath(s_roi+'.tsv'), sep='\\t', index_col=[0])\n",
    "        pred['present'] = 1\n",
    "        pred = pred.pivot(index=['X', 'Y'], columns='pred_cell_type', values='present').fillna(0).reset_index(drop=False)\n",
    "\n",
    "        pcorr_df = pd.DataFrame(index=cts, columns=['pcorr'])\n",
    "        for i,ct in enumerate(cts):\n",
    "            if ((ct in gt.columns) and (ct in pred.columns)):\n",
    "                density_gt, _, _ = np.histogram2d(gt.loc[gt[ct]==1,'X'], gt.loc[gt[ct]==1,'Y'], [x_bins, y_bins], density=True)   \n",
    "                density_pred, _, _ = np.histogram2d(pred.loc[pred[ct]==1,'X'], pred.loc[pred[ct]==1,'Y'], [x_bins, y_bins], density=True)   \n",
    "                pcorr_df.loc[ct,'pcorr'] = pearsonr(density_gt.flatten(), density_pred.flatten())[0]\n",
    "            else:\n",
    "                print(ct, 'missing')\n",
    "                pcorr_df.loc[ct,'pcorr'] = np.nan\n",
    "        pcorr_df['sample_roi'] = s_roi\n",
    "        pcorr_df['resolution'] = res\n",
    "        pcorr_df_all = pd.concat([pcorr_df_all, pcorr_df])\n",
    "pcorr_df_all.index.name = 'cell_type'\n",
    "pcorr_df_all = pcorr_df_all.reset_index()"
   ]
  },
  {
   "cell_type": "code",
   "execution_count": null,
   "id": "f7a0ba0e",
   "metadata": {},
   "outputs": [],
   "source": [
    "# in how many RIOs a given cell-type was missing (either GT or prediction)\n",
    "pcorr_df_all.loc[pcorr_df_all.pcorr.isna(),:].groupby('cell_type')['sample_roi'].nunique()"
   ]
  },
  {
   "cell_type": "code",
   "execution_count": null,
   "id": "bdfe8a41",
   "metadata": {},
   "outputs": [],
   "source": [
    "for res in resolutions:\n",
    "    plot_df = pcorr_df_all.loc[pcorr_df_all['resolution']==res,:]\n",
    "    fig, ax = plt.subplots(figsize=(6,4))\n",
    "    sns.boxplot(x='pcorr', y='cell_type', data=plot_df, ax=ax, palette=color_palette)\n",
    "    ax.axvline(0,linestyle='--', color='lightgrey')\n",
    "    plt.ylabel('')\n",
    "    plt.xlabel('Pearson correlation')\n",
    "    plt.title(res)\n",
    "    plt.xlim(-1,1)\n",
    "    plt.show()"
   ]
  },
  {
   "cell_type": "code",
   "execution_count": null,
   "id": "e2ff9261",
   "metadata": {},
   "outputs": [],
   "source": [
    "pcorr_df_all.loc[pcorr_df_all['resolution']==64,:].groupby('cell_type').pcorr.median()"
   ]
  },
  {
   "cell_type": "code",
   "execution_count": null,
   "id": "da15d69a",
   "metadata": {
    "scrolled": false
   },
   "outputs": [],
   "source": [
    "# aggregated Pearson's correlation as a function of resolution\n",
    "pcorr_df_all_agg = pcorr_df_all.groupby(['resolution', 'cell_type']).pcorr.median().to_frame('median_pcorr').reset_index()\n",
    "fig, ax = plt.subplots(figsize=(4.5,3.5))\n",
    "sns.scatterplot(x='resolution', y='median_pcorr', data=pcorr_df_all_agg, hue='cell_type', ax=ax, palette=color_palette)\n",
    "sns.lineplot(x='resolution', y='median_pcorr', data=pcorr_df_all_agg, hue='cell_type', ax=ax, palette=color_palette, legend=False)\n",
    "ax.axhline(0,linestyle='--', color='lightgrey')\n",
    "ax.set_title('Correspondence of cell-type maps')\n",
    "ax.set_ylabel('Median Pearson correlation')\n",
    "ax.set_xlabel('Resolution in px')\n",
    "plt.legend(bbox_to_anchor=(1,1))\n",
    "if not dry_run:\n",
    "        plt.savefig(SAVE_PATH.joinpath(save_fname+'-cts_corr_growing.png'), bbox_inches='tight', dpi=300)\n",
    "        plt.savefig(SAVE_PATH.joinpath(save_fname+'-cts_corr_growing.pdf'), bbox_inches='tight', dpi=300)\n",
    "plt.show()\n"
   ]
  },
  {
   "cell_type": "markdown",
   "id": "760734bd",
   "metadata": {},
   "source": [
    "# Overlay cell-type density maps"
   ]
  },
  {
   "cell_type": "code",
   "execution_count": null,
   "id": "4934054a",
   "metadata": {},
   "outputs": [],
   "source": [
    "bin_lim = 1000//(2**(level-2))\n",
    "axmax = 1024//(2**(level-2))\n",
    "desired_resolution_px = 32//(2**(level-2))\n",
    "x_bins, y_bins = get_density_bins(desired_resolution_px, bin_lim, axmax)\n",
    "max_density = 1/((bin_lim/desired_resolution_px)**2)/10 # 1/(n_bins)\n",
    "cts = CELL_TYPES #[x for x in CELL_TYPES if x !='other']\n",
    "\n",
    "bin_lim, axmax, desired_resolution_px, axmax//desired_resolution_px, max_density"
   ]
  },
  {
   "cell_type": "code",
   "execution_count": null,
   "id": "e5ab9818",
   "metadata": {},
   "outputs": [],
   "source": [
    "def plt_ax_adjust(plt_ax, title=''):\n",
    "    plt_ax.set_box_aspect(1)\n",
    "    plt_ax.set_title(title)\n",
    "    plt_ax.set_xticks([])\n",
    "    plt_ax.set_yticks([])\n",
    "    plt_ax.set_ylabel('')\n",
    "    plt_ax.set_xlabel('')\n",
    "    plt_ax.set_facecolor('white')"
   ]
  },
  {
   "cell_type": "code",
   "execution_count": null,
   "id": "5d6bcf6c",
   "metadata": {
    "scrolled": true
   },
   "outputs": [],
   "source": [
    "### joint plot of multiple proteins\n",
    "# offset for setting y-/x-axis limits\n",
    "offset = 20\n",
    "# size of the point\n",
    "marker_size = 10\n",
    "# transparency of the point\n",
    "alpha = 0.4\n",
    "# which cell-types to plot\n",
    "cts_sel = ['tumor', 'Tcells.CD8', 'Bcells']\n",
    "# which ROIs to save plots for (only if dry_run=False)\n",
    "save_rois = ['MYKOKIG_F1', 'MAHEFOG_F3', 'MAHEFOG_F2']\n",
    "\n",
    "#color_palette = dict(zip(cts_sel, cmap_sel.colors))\n",
    "for s_roi in sorted(save_rois):#sample_rois):\n",
    "    print(s_roi)\n",
    "    he = np.load(project_path.joinpath('data/tupro/binary_he_rois',s_roi+'.npy'))\n",
    "    gt = pd.read_csv(GT_PATH.joinpath(s_roi+'.tsv'), sep='\\t', index_col=[0])\n",
    "    gt = gt.loc[gt['pred_cell_type'].isin(cts_sel),:].sort_values(by='pred_cell_type')\n",
    "    gt['present'] = 1\n",
    "    pred = pd.read_csv(PRED_PATH.joinpath(s_roi+'.tsv'), sep='\\t', index_col=[0])\n",
    "    pred = pred.loc[pred['pred_cell_type'].isin(cts_sel),:].sort_values(by='pred_cell_type')\n",
    "    pred['present'] = 1\n",
    "    \n",
    "    fig, axes = plt.subplots(1, 3, figsize=(9,3))\n",
    "    axes[0].imshow(he, origin='lower')\n",
    "    plt_ax_adjust(axes[0], title=\"H&E\")\n",
    "    sns.scatterplot(x='Y', y='X', data=gt, hue='pred_cell_type', ax=axes[1], s=marker_size, legend=False,\n",
    "                   palette=color_palette, alpha=alpha)\n",
    "    axes[1].set_ylim(0-offset,1000+offset)\n",
    "    axes[1].set_xlim(0-offset,1000+offset)\n",
    "    plt_ax_adjust(axes[1], title='GT cell-type location')#title='GT: '+', '.join(cts_sel))\n",
    "    sns.scatterplot(x='Y', y='X', data=pred, hue='pred_cell_type', ax=axes[2], s=marker_size, legend=True,\n",
    "                   palette=color_palette, alpha=alpha)\n",
    "    axes[2].set_ylim(0-offset,1000+offset)\n",
    "    axes[2].set_xlim(0-offset,1000+offset)\n",
    "    plt_ax_adjust(axes[2], title='Predicted cell-type location')#title='Pred: '+', '.join(cts_sel))\n",
    "    plt.legend(bbox_to_anchor=(1,1))\n",
    "    fig.subplots_adjust(wspace=0.05, hspace=-0.25)\n",
    "    if not dry_run:\n",
    "        if s_roi in save_rois:\n",
    "            plt.savefig(SAVE_PATH.joinpath(save_fname+'-cts_maps-tumor_cd8_bcells-'+s_roi+'.png'), bbox_inches='tight', dpi=300)\n",
    "            plt.savefig(SAVE_PATH.joinpath(save_fname+'-cts_maps-tumor_cd8_bcells-'+s_roi+'.pdf'), bbox_inches='tight', dpi=300)\n",
    "    plt.show()"
   ]
  }
 ],
 "metadata": {
  "kernelspec": {
   "display_name": "Python 3",
   "language": "python",
   "name": "python3"
  },
  "language_info": {
   "codemirror_mode": {
    "name": "ipython",
    "version": 3
   },
   "file_extension": ".py",
   "mimetype": "text/x-python",
   "name": "python",
   "nbconvert_exporter": "python",
   "pygments_lexer": "ipython3",
   "version": "3.8.12"
  }
 },
 "nbformat": 4,
 "nbformat_minor": 5
}
