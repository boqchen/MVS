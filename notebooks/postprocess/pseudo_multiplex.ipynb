{
 "cells": [
  {
   "cell_type": "markdown",
   "id": "9a73966f",
   "metadata": {},
   "source": [
    "### creating pseudo mutiplex from singleplex exps "
   ]
  },
  {
   "cell_type": "code",
   "execution_count": null,
   "id": "91518b27",
   "metadata": {},
   "outputs": [],
   "source": [
    "import numpy as np\n",
    "import os\n",
    "import shutil\n",
    "import json\n",
    "import cv2\n",
    "import glob\n",
    "import sys \n",
    "root_code = os.path.dirname(os.path.dirname(os.getcwd()))\n",
    "sys.path.insert(0, root_code)\n",
    "\n",
    "from codebase.utils.constants import *\n"
   ]
  },
  {
   "cell_type": "code",
   "execution_count": null,
   "id": "75c508e0",
   "metadata": {},
   "outputs": [],
   "source": [
    "results_path = '/raid/sonali/project_mvs/results/'"
   ]
  },
  {
   "cell_type": "code",
   "execution_count": null,
   "id": "066323ce",
   "metadata": {},
   "outputs": [],
   "source": [
    "def create_folder(path): \n",
    "    if not os.path.exists(path): \n",
    "        os.makedirs(path)"
   ]
  },
  {
   "cell_type": "markdown",
   "id": "e9ff4cb9",
   "metadata": {},
   "source": [
    "#### create pseudo folder "
   ]
  },
  {
   "cell_type": "code",
   "execution_count": null,
   "id": "58347edb",
   "metadata": {},
   "outputs": [],
   "source": [
    "# create pseudo folder\n",
    "# pseudo_results_name = \"0jpt9ixq_dataaug-v2-flip_split3_pseudo_multiplex_no-wt_no-checkerboard\"\n",
    "pseudo_results_name = \"1kh90kst_dataaug-v2-flip_split3_pseudo_multiplex_selected-snr-set_no-wt_no-checkerboard\"\n",
    "\n",
    "pseudo_path = os.path.join(results_path, pseudo_results_name)\n",
    "create_folder(pseudo_path)"
   ]
  },
  {
   "cell_type": "markdown",
   "id": "6b0877f5",
   "metadata": {},
   "source": [
    "#### create args file\n"
   ]
  },
  {
   "cell_type": "code",
   "execution_count": null,
   "id": "f2396dd0",
   "metadata": {},
   "outputs": [],
   "source": [
    "# create args.txt file\n",
    "source_path = os.path.join(results_path, '3ifhwgc0_dataaug-v2-flip_split3_Ki-67_no-wt_no-checkerboard')\n",
    "\n",
    "source_args = os.path.join(source_path, 'args.txt')\n",
    "target_args = os.path.join(pseudo_path, 'args.txt')\n",
    "\n",
    "shutil.copy2(source_args, target_args) # source, target"
   ]
  },
  {
   "cell_type": "code",
   "execution_count": null,
   "id": "7e17a011",
   "metadata": {},
   "outputs": [],
   "source": [
    "# change submission id and protein set\n",
    "with open(source_args, \"r\") as jsonFile:\n",
    "    data = json.load(jsonFile)\n",
    "    \n",
    "# data[\"protein_set\"] = \"prots_pseudo_multiplex\"\n",
    "data[\"protein_set\"] = \"selected_snr\"\n",
    "data[\"submission_id\"] = pseudo_results_name\n",
    "\n",
    "with open(target_args, 'w') as f:\n",
    "    json.dump(data, f, indent=2)"
   ]
  },
  {
   "cell_type": "markdown",
   "id": "f2af79d6",
   "metadata": {},
   "source": [
    "#### create checkpoint folder and image paths "
   ]
  },
  {
   "cell_type": "code",
   "execution_count": null,
   "id": "142e6847",
   "metadata": {},
   "outputs": [],
   "source": [
    "pseudo_chkpt_path = os.path.join(pseudo_path, 'chkpt_selection')\n",
    "create_folder(pseudo_chkpt_path)"
   ]
  },
  {
   "cell_type": "code",
   "execution_count": null,
   "id": "bb6ae121",
   "metadata": {},
   "outputs": [],
   "source": [
    "source_chkpt = os.path.join(source_path, 'chkpt_selection', 'best_epoch-level_2-valid.txt')\n",
    "target_chkpt = os.path.join(pseudo_path, 'chkpt_selection', 'best_epoch-level_2-valid.txt')\n",
    "shutil.copy2(source_chkpt, target_chkpt) # copy source, target"
   ]
  },
  {
   "cell_type": "code",
   "execution_count": null,
   "id": "a91684ad",
   "metadata": {},
   "outputs": [],
   "source": [
    "# create folders with desired epoch \n",
    "# get best epoch \n",
    "with open(target_chkpt, \"r\") as jsonFile:\n",
    "    data = json.load(jsonFile)\n",
    "    \n",
    "best_epoch_multiplex = data['best_epoch']\n",
    "print('best_epoch_multiplex: ', best_epoch_multiplex)\n",
    "\n",
    "# create folders for sets and levels \n",
    "image_sets = ['test_images', 'valid_images']\n",
    "levels = ['level_2', 'level_4', 'level_6']\n",
    "\n",
    "for image_set in image_sets: \n",
    "    for level in levels: \n",
    "        create_folder(os.path.join(pseudo_path, image_set, 'epoch' + str(best_epoch_multiplex) +'-1', level))"
   ]
  },
  {
   "cell_type": "markdown",
   "id": "addc8463",
   "metadata": {},
   "source": [
    "### list of experiments that are needed for pseudo multiplex  "
   ]
  },
  {
   "cell_type": "code",
   "execution_count": null,
   "id": "ba11575c",
   "metadata": {
    "scrolled": true
   },
   "outputs": [],
   "source": [
    "proteins_for_pseudo_multiplex = selected_prots_snr # prots_pseudo_multiplex  \n",
    "proteins_for_pseudo_multiplex"
   ]
  },
  {
   "cell_type": "code",
   "execution_count": null,
   "id": "3f1f8d0d",
   "metadata": {},
   "outputs": [],
   "source": [
    "# get paths of all relevant singleplex exps \n",
    "singleplex_paths = []\n",
    "for protein in proteins_for_pseudo_multiplex: \n",
    "    singleplex_paths.append(glob.glob(results_path + '/*' + protein +  '_no-wt_no-checkerboard')[0])\n",
    "len(singleplex_paths), singleplex_paths"
   ]
  },
  {
   "cell_type": "code",
   "execution_count": null,
   "id": "a7a2a10a",
   "metadata": {},
   "outputs": [],
   "source": [
    "# get best epoch for all singleplex exps \n",
    "best_epochs = []\n",
    "for singleplex_path in singleplex_paths: \n",
    "    singleplex_chkpt = os.path.join(singleplex_path, 'chkpt_selection', 'best_epoch-level_2-valid.txt')\n",
    "    with open(singleplex_chkpt, \"r\") as jsonFile:\n",
    "        data = json.load(jsonFile)\n",
    "    best_epochs.append(data['best_epoch'])\n",
    "best_epochs"
   ]
  },
  {
   "cell_type": "markdown",
   "id": "900be725",
   "metadata": {},
   "source": [
    "#### cretate and visualise pseudo multiplex  "
   ]
  },
  {
   "cell_type": "code",
   "execution_count": null,
   "id": "e4137a0f",
   "metadata": {
    "scrolled": true
   },
   "outputs": [],
   "source": [
    "def get_rois(which_set, project_path, cv_split): \n",
    "    kfold_splits = json.load(open(os.path.join(project_path, CV_SPLIT_ROIS_PATH)))\n",
    "    aligns = kfold_splits[cv_split][which_set]\n",
    "    return aligns "
   ]
  },
  {
   "cell_type": "code",
   "execution_count": null,
   "id": "75791eb3",
   "metadata": {},
   "outputs": [],
   "source": [
    "# /valid_images/epoch48-1/level_2\n",
    "project_path = '/raid/sonali/project_mvs/'\n",
    "cv_split = 'split3'\n",
    "\n",
    "aligns_sets = ['test']#, 'valid']\n",
    "levels = ['level_2', 'level_4', 'level_6']\n",
    "\n",
    "# \n",
    "for align_set in aligns_sets: # for test/valid   \n",
    "    print('align_set: ', align_set)\n",
    "    for level in levels: # for level_2/level_4, level_6\n",
    "        print('level: ', level)\n",
    "        rois = get_rois(align_set, project_path, cv_split)\n",
    "        for roi in rois: # for each roi in the test/valid set\n",
    "            print(roi)\n",
    "            \n",
    "            # initialise an empty numpy array            \n",
    "            roi_width = 4000//(2**int(level.split('_')[-1]))\n",
    "            roi_multiplex = np.zeros((roi_width, roi_width, len(proteins_for_pseudo_multiplex)), dtype=np.float32)\n",
    "            \n",
    "            for i, protein in enumerate(proteins_for_pseudo_multiplex): # for each protein \n",
    "                print(protein)\n",
    "                singleplex_path = singleplex_paths[i]\n",
    "                best_epoch = best_epochs[i]\n",
    "                print(best_epoch, singleplex_path)\n",
    "                # load numpy predictions for roi for protein \n",
    "                pred_prot = np.load(os.path.join(singleplex_path, align_set + '_images', \n",
    "                                            'epoch' + str(best_epoch) + '-1', level, roi + '.npy'))\n",
    "                print(pred_prot.shape, roi_multiplex.shape)\n",
    "                \n",
    "                roi_multiplex[:,:,i] = pred_prot[:,:,0]\n",
    "                \n",
    "            # save roi_multiplex in desired path                 \n",
    "            roi_multiplex = np.save(os.path.join(pseudo_path, align_set + '_images', \n",
    "                            'epoch' + str(best_epoch_multiplex) + '-1', level, roi + '.npy'), roi_multiplex)\n"
   ]
  },
  {
   "cell_type": "markdown",
   "id": "529312ef",
   "metadata": {},
   "source": [
    "#### change folder permissions "
   ]
  },
  {
   "cell_type": "code",
   "execution_count": null,
   "id": "45bc5c4c",
   "metadata": {},
   "outputs": [],
   "source": [
    "!chgrp -R mvsgroup $pseudo_path\n",
    "!chmod -R 770 $pseudo_path"
   ]
  },
  {
   "cell_type": "markdown",
   "id": "18beec14",
   "metadata": {},
   "source": [
    "#### QC to compare of numpy values match between singleplex and multiplex "
   ]
  },
  {
   "cell_type": "code",
   "execution_count": null,
   "id": "b34cdf33",
   "metadata": {},
   "outputs": [],
   "source": [
    "align_set = 'test'\n",
    "rois = get_rois(align_set, project_path, cv_split)\n",
    "level = 'level_6'\n",
    "\n",
    "for roi in rois: \n",
    "    print(roi)\n",
    "    prot_multiplex = np.load(os.path.join(pseudo_path, align_set + '_images', \n",
    "                    'epoch' + str(best_epoch_multiplex) + '-1', level, roi + '.npy'))    \n",
    "#     print(prot_multiplex.shape)\n",
    "    for i, protein in enumerate(proteins_for_pseudo_multiplex):\n",
    "        prot_singleplex = np.load(os.path.join(singleplex_paths[i], align_set + '_images', \n",
    "                                            'epoch' + str(best_epochs[i]) + '-1', level, roi + '.npy'))            \n",
    "        print(np.array_equal(prot_singleplex, np.expand_dims(prot_multiplex[:,:,i], axis=2)))\n",
    "\n",
    "prot_singleplex.shape, prot_multiplex.shape\n",
    "    "
   ]
  },
  {
   "cell_type": "code",
   "execution_count": null,
   "id": "e9581727",
   "metadata": {},
   "outputs": [],
   "source": []
  }
 ],
 "metadata": {
  "kernelspec": {
   "display_name": "Python 3",
   "language": "python",
   "name": "python3"
  },
  "language_info": {
   "codemirror_mode": {
    "name": "ipython",
    "version": 3
   },
   "file_extension": ".py",
   "mimetype": "text/x-python",
   "name": "python",
   "nbconvert_exporter": "python",
   "pygments_lexer": "ipython3",
   "version": "3.8.12"
  }
 },
 "nbformat": 4,
 "nbformat_minor": 5
}
