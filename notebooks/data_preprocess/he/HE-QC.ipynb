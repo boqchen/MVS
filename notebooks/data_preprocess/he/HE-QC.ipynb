{
 "cells": [
  {
   "cell_type": "code",
   "execution_count": null,
   "id": "b78e75ce",
   "metadata": {},
   "outputs": [],
   "source": [
    "import os\n",
    "import numpy as np\n",
    "import pandas as pd\n",
    "import json\n",
    "import math\n",
    "import matplotlib.pyplot as plt\n",
    "import cv2\n",
    "import glob "
   ]
  },
  {
   "cell_type": "code",
   "execution_count": null,
   "id": "4a8e44c9",
   "metadata": {},
   "outputs": [],
   "source": [
    "PROJECT_PATH = '/cluster/work/grlab/projects/projects2021-multivstain/'\n",
    "DATA_DIR = os.path.join(PROJECT_PATH, 'data/tupro/')\n",
    "HE_QC_PATH = os.path.join(PROJECT_PATH, 'meta/HE-QC.tsv')\n",
    "base_he_path = DATA_DIR + '/binary_he_rois/'\n",
    "\n",
    "os.path.exists(PROJECT_PATH), os.path.exists(DATA_DIR), os.path.exists(HE_QC_PATH)"
   ]
  },
  {
   "cell_type": "code",
   "execution_count": null,
   "id": "862cbe5b",
   "metadata": {},
   "outputs": [],
   "source": [
    "df = pd.read_csv(HE_QC_PATH, sep='\\t')\n",
    "df"
   ]
  },
  {
   "cell_type": "code",
   "execution_count": null,
   "id": "0b8ebb14",
   "metadata": {},
   "outputs": [],
   "source": [
    "rois_labels = ['slightly pigmented', 'good']# ['overstained', 'artifact', 'pigmented']['slightly pigmented', 'good']"
   ]
  },
  {
   "cell_type": "code",
   "execution_count": null,
   "id": "6d9f63ac",
   "metadata": {
    "scrolled": false
   },
   "outputs": [],
   "source": [
    "for rois_label in rois_labels: \n",
    "    s_rois = list(df.loc[df['status'] == rois_label]['sample'])\n",
    "    print(rois_label, len(s_rois))#, s_rois[0:2])\n",
    "    index = max(20, len(s_rois))\n",
    "    for i, binary_he_path in enumerate(s_rois[0:index]):  \n",
    "        he_img = np.load(base_he_path + '/' + binary_he_path + '.npy')\n",
    "        roi_name = binary_he_path.split('.npy')[0]\n",
    "        print(roi_name)\n",
    "        if (i%2==0):\n",
    "            fig, axes = plt.subplots(1,2, figsize=(40,20))\n",
    "        j = (i%2)\n",
    "        axes[j].imshow(he_img)\n",
    "        axes[j].set_title(roi_name, fontsize=40)\n",
    "        axes[j].set_xticks([])\n",
    "        axes[j].set_yticks([])\n",
    "        \n",
    "        if(i%2==1 or i==len(s_rois)-1):\n",
    "            plt.show()"
   ]
  },
  {
   "cell_type": "code",
   "execution_count": null,
   "id": "c80aac3f",
   "metadata": {},
   "outputs": [],
   "source": []
  },
  {
   "cell_type": "code",
   "execution_count": null,
   "id": "e823c353",
   "metadata": {},
   "outputs": [],
   "source": []
  },
  {
   "cell_type": "code",
   "execution_count": null,
   "id": "229ea939",
   "metadata": {},
   "outputs": [],
   "source": []
  },
  {
   "cell_type": "code",
   "execution_count": null,
   "id": "fa7a048c",
   "metadata": {},
   "outputs": [],
   "source": []
  },
  {
   "cell_type": "code",
   "execution_count": null,
   "id": "6fe05ac9",
   "metadata": {},
   "outputs": [],
   "source": []
  },
  {
   "cell_type": "markdown",
   "id": "e22e11c0",
   "metadata": {},
   "source": [
    "### scratch"
   ]
  },
  {
   "cell_type": "code",
   "execution_count": null,
   "id": "a0e0dfe3",
   "metadata": {
    "scrolled": false
   },
   "outputs": [],
   "source": [
    "he_imgs = []\n",
    "roi_names = []\n",
    "base_he_path = DATA_DIR + '/binary_he_rois/'\n",
    "\n",
    "for i, binary_he_path in enumerate(s_rois):  \n",
    "    he_imgs.append(np.load(base_he_path + '/' + binary_he_path + '.npy'))\n",
    "    roi_names.append(binary_he_path.split('.npy')[0])\n",
    "    \n",
    "    if ((i+1)%2 ==0):     \n",
    "        fig, axes = plt.subplots(1,2, figsize=(60,50))\n",
    "        for j, he_img  in enumerate(he_imgs):  \n",
    "            axes[j].imshow(he_img)\n",
    "            axes[j].set_title(roi_names[j], fontsize=40)\n",
    "            axes[j].set_xticks([])\n",
    "            axes[j].set_yticks([])\n",
    "        plt.show()\n",
    "        he_imgs = []\n",
    "        roi_names = []\n",
    "        \n",
    "#         break\n"
   ]
  },
  {
   "cell_type": "code",
   "execution_count": null,
   "id": "df206086",
   "metadata": {},
   "outputs": [],
   "source": [
    "CV_SPLIT_ROIS_PATH = os.path.join(PROJECT_PATH, CV_SPLIT_ROIS_PATH)\n",
    "cv = json.load(open(CV_SPLIT_ROIS_PATH))\n",
    "s_rois = cv['split0']['train']\n",
    "len(s_rois), s_rois[0:2]"
   ]
  }
 ],
 "metadata": {
  "kernelspec": {
   "display_name": "Python 3 (ipykernel)",
   "language": "python",
   "name": "python3"
  },
  "language_info": {
   "codemirror_mode": {
    "name": "ipython",
    "version": 3
   },
   "file_extension": ".py",
   "mimetype": "text/x-python",
   "name": "python",
   "nbconvert_exporter": "python",
   "pygments_lexer": "ipython3",
   "version": "3.8.12"
  }
 },
 "nbformat": 4,
 "nbformat_minor": 5
}
