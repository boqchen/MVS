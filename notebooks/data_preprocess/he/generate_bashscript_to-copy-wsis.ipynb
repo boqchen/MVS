{
 "cells": [
  {
   "cell_type": "markdown",
   "id": "95e5b03a",
   "metadata": {},
   "source": [
    "### Code for writing a bash file to copy all the test and valid wsis for a specific data split (for running eg hovernet in dgx)\n"
   ]
  },
  {
   "cell_type": "code",
   "execution_count": null,
   "id": "d4c66dbf",
   "metadata": {},
   "outputs": [],
   "source": [
    "import numpy as np \n",
    "import pandas as pd \n",
    "import json \n",
    "import os"
   ]
  },
  {
   "cell_type": "code",
   "execution_count": null,
   "id": "76aa215b",
   "metadata": {},
   "outputs": [],
   "source": [
    "json_file = '/cluster/work/grlab/projects/projects2021-multivstain/data/tupro/mvs-cv_split-dict-v4.json'\n",
    "aligns_sets = ['test', 'valid']\n",
    "cv_split = 'split3'"
   ]
  },
  {
   "cell_type": "code",
   "execution_count": null,
   "id": "ea9eaaac",
   "metadata": {},
   "outputs": [],
   "source": [
    "kfold_splits = json.load(open(json_file))\n",
    "he_paths = []\n",
    "\n",
    "for aligns_set in aligns_sets:  \n",
    "    aligns = kfold_splits[cv_split][aligns_set]\n",
    "    for align in aligns: \n",
    "        he_paths.append(align['he_slide'])\n",
    "\n",
    "he_paths = list(set(he_paths))\n",
    "len(he_paths), he_paths[0:3]\n"
   ]
  },
  {
   "cell_type": "code",
   "execution_count": null,
   "id": "6b666140",
   "metadata": {},
   "outputs": [],
   "source": [
    "base_path_dgx = '/cluster/work/grlab/projects/projects2021-multivstain/dgx_copy'\n",
    "\n",
    "base_save_path = os.path.join(base_path_dgx, 'he_imgs-split3_valid-test')\n",
    "if not os.path.exists(base_save_path): \n",
    "    os.mkdir(base_save_path)\n",
    "bash_path = os.path.join(base_path_dgx, 'he_paths-split3_valid-test.sh')\n",
    "with open(bash_path, 'w+') as bash_file:\n",
    "    bash_file.write('#!/bin/bash \\n')\n",
    "    for he_path in he_paths: \n",
    "        bash_file.write('cp ' + str(he_path) + ' ' + base_save_path +  '\\n')\n",
    "    \n",
    "    bash_file.write('zip -r ' + 'he_imgs-split3_valid-test.zip ' + 'he_imgs-split3_valid-test/')\n"
   ]
  },
  {
   "cell_type": "code",
   "execution_count": null,
   "id": "5f594c3a",
   "metadata": {},
   "outputs": [],
   "source": [
    "# in the end do \"bash he_paths-split3_valid-test.sh\""
   ]
  }
 ],
 "metadata": {
  "kernelspec": {
   "display_name": "Python 3",
   "language": "python",
   "name": "python3"
  },
  "language_info": {
   "codemirror_mode": {
    "name": "ipython",
    "version": 3
   },
   "file_extension": ".py",
   "mimetype": "text/x-python",
   "name": "python",
   "nbconvert_exporter": "python",
   "pygments_lexer": "ipython3",
   "version": "3.8.12"
  }
 },
 "nbformat": 4,
 "nbformat_minor": 5
}
