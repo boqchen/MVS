{
 "cells": [
  {
   "cell_type": "markdown",
   "id": "a569b394",
   "metadata": {},
   "source": [
    "### The code does the following: \n",
    "1. Visualisation of new scanned images, next to old H&E images -- visual QC\n",
    "2. generating paths csv file needed to run Flavia's annotation transfer pipeline -- to generate new paired H&E IMC data for MVS\n"
   ]
  },
  {
   "cell_type": "code",
   "execution_count": null,
   "id": "8a344e71",
   "metadata": {
    "ExecuteTime": {
     "end_time": "2022-07-28T08:45:49.961527Z",
     "start_time": "2022-07-28T08:45:25.920218Z"
    }
   },
   "outputs": [],
   "source": [
    "import numpy as np \n",
    "import os\n",
    "import glob\n",
    "import json\n",
    "import openslide\n",
    "import pandas as pd\n",
    "import matplotlib.pyplot as plt\n",
    "\n"
   ]
  },
  {
   "cell_type": "markdown",
   "id": "bf75f850",
   "metadata": {},
   "source": [
    "### Getting HE old scan file paths for all aligned samples "
   ]
  },
  {
   "cell_type": "code",
   "execution_count": null,
   "id": "764777e7",
   "metadata": {
    "ExecuteTime": {
     "end_time": "2022-07-28T08:45:49.979170Z",
     "start_time": "2022-07-28T08:45:49.963135Z"
    }
   },
   "outputs": [],
   "source": [
    "# getting sample names for which aligned data from Simon exists\n",
    "\n",
    "path_old_he = '/cluster/work/grlab/projects/projects2021-multivstain/data/tupro/binary_he_rois'\n",
    "old_he_rois = glob.glob(path_old_he + '/*npy')\n",
    "aligned_samples = [old_he_roi.split('/')[-1].split('_')[0]  for old_he_roi in old_he_rois]\n",
    "aligned_samples = set(aligned_samples)\n",
    "len(aligned_samples)"
   ]
  },
  {
   "cell_type": "code",
   "execution_count": null,
   "id": "0b6936e8",
   "metadata": {
    "ExecuteTime": {
     "end_time": "2022-07-28T09:18:16.971505Z",
     "start_time": "2022-07-28T09:18:16.666831Z"
    }
   },
   "outputs": [],
   "source": [
    "# getting old H&E image names for all samples that have IMC data  \n",
    "\n",
    "# base_json_path = '/cluster/work/grlab/projects/projects2021-multivstain/data/tupro/json_files/'\n",
    "base_json_path = '/cluster/work/grlab/projects/projects2022-he2ihc/AnnotationTransfer/json_files'\n",
    "he_filenames_old = [(i.split('/')[-1].split('.json')[0]) for i in glob.glob(base_json_path + '/*/*') if i.split('/')[-1].split('.')[-3].split('_')[0]=='HE']\n",
    "\n",
    "he_filenames_old_dict = dict((he_filename_old.split('-')[0], he_filename_old) for he_filename_old in he_filenames_old)\n",
    "he_filenames_old_dict\n"
   ]
  },
  {
   "cell_type": "markdown",
   "id": "f68f49c4",
   "metadata": {},
   "source": [
    "#### finding full path for old he aligned images "
   ]
  },
  {
   "cell_type": "code",
   "execution_count": null,
   "id": "8793a6e7",
   "metadata": {
    "ExecuteTime": {
     "end_time": "2022-07-28T08:47:03.925401Z",
     "start_time": "2022-07-28T08:46:55.443887Z"
    }
   },
   "outputs": [],
   "source": [
    "he_paths_old = []\n",
    "for sample_name in aligned_samples: \n",
    "    try: \n",
    "        he_path_old = glob.glob('/cluster/work/tumorp/data_repository/study/' + '/*/' + sample_name + '/digpath_zurich/raw/pass_1/' + he_filenames_old_dict[sample_name])[0]\n",
    "        if os.path.isfile(he_path_old):\n",
    "            he_paths_old.append(he_path_old)\n",
    "            \n",
    "    except:\n",
    "        pass\n",
    "print(len(he_paths_old))\n",
    "he_paths_old[0:4]\n"
   ]
  },
  {
   "cell_type": "markdown",
   "id": "efda69ee",
   "metadata": {},
   "source": [
    "### Plotting old and new scans next to each other "
   ]
  },
  {
   "cell_type": "code",
   "execution_count": null,
   "id": "e068c9aa",
   "metadata": {
    "ExecuteTime": {
     "end_time": "2022-07-28T09:13:32.592010Z",
     "start_time": "2022-07-28T09:03:19.075235Z"
    }
   },
   "outputs": [],
   "source": [
    "base_new_scans_he = '/cluster/work/tumorp/share/st_data/usz_share/HE_highres_imgs'\n",
    "\n",
    "paths = []\n",
    "\n",
    "for he_path_old in he_paths_old: \n",
    "    he_imgname_old = he_path_old.split('/')[-1]\n",
    "    tupro_id = he_imgname_old.split('/')[-1].split('-')[0]\n",
    "    he_path_new = glob.glob(base_new_scans_he + '/' + tupro_id + '*.ndpi')\n",
    "    \n",
    "    if len(he_path_new) == 0:\n",
    "        print(tupro_id, ' : No new scanned image found')\n",
    "    \n",
    "    elif(len(he_path_new)>=1):\n",
    "        he_imgname_new = [(i.split('/')[-1]) for i in he_path_new]\n",
    "        print(tupro_id, ': ', len(he_path_new),'  scanned image found')\n",
    "                \n",
    "        # plot images side by side \n",
    "        slide_old = openslide.open_slide(he_path_old)\n",
    "        level = slide_old.get_best_level_for_downsample(128)\n",
    "        img_old = slide_old.read_region((0, 0), level, slide_old.level_dimensions[level])\n",
    "\n",
    "        n_imgs = len(he_path_new) + 1\n",
    "        plt.figure(figsize=(20,10)) \n",
    "        plt.subplot(1, n_imgs,1) \n",
    "        plt.title(he_imgname_old)\n",
    "        plt.imshow(img_old)\n",
    "        \n",
    "        for i in range(len(he_path_new)): \n",
    "            json_path = os.path.join(base_json_path, tupro_id, he_imgname_old + '.json')\n",
    "            paths.append([tupro_id, he_path_new[i], he_path_old, json_path])\n",
    "            \n",
    "            slide_new = openslide.open_slide(he_path_new[i])\n",
    "            level = slide_new.get_best_level_for_downsample(128)\n",
    "            img_new = slide_new.read_region((0, 0), level, slide_new.level_dimensions[level])\n",
    "            plt.subplot(1, n_imgs, i+2)    \n",
    "            plt.title(he_imgname_new[i])\n",
    "            plt.imshow(img_new)\n",
    "\n",
    "        plt.show()\n",
    "        plt.close()\n",
    "    "
   ]
  },
  {
   "cell_type": "code",
   "execution_count": null,
   "id": "8c641af5",
   "metadata": {
    "ExecuteTime": {
     "end_time": "2022-07-28T09:13:45.932755Z",
     "start_time": "2022-07-28T09:13:45.623246Z"
    }
   },
   "outputs": [],
   "source": [
    "len(paths)"
   ]
  },
  {
   "cell_type": "code",
   "execution_count": null,
   "id": "41173571",
   "metadata": {
    "ExecuteTime": {
     "end_time": "2022-07-28T09:13:52.789523Z",
     "start_time": "2022-07-28T09:13:52.710008Z"
    }
   },
   "outputs": [],
   "source": [
    "df = pd.DataFrame(paths)\n",
    "df"
   ]
  },
  {
   "cell_type": "code",
   "execution_count": null,
   "id": "e1bff0ec",
   "metadata": {
    "ExecuteTime": {
     "end_time": "2022-07-28T09:14:24.405875Z",
     "start_time": "2022-07-28T09:14:24.310218Z"
    }
   },
   "outputs": [],
   "source": [
    "df.to_csv('paths_updated.csv', header=False, index=False)"
   ]
  },
  {
   "cell_type": "code",
   "execution_count": null,
   "id": "2d89b0fc",
   "metadata": {},
   "outputs": [],
   "source": []
  }
 ],
 "metadata": {
  "kernelspec": {
   "display_name": "Python 3",
   "language": "python",
   "name": "python3"
  },
  "language_info": {
   "codemirror_mode": {
    "name": "ipython",
    "version": 3
   },
   "file_extension": ".py",
   "mimetype": "text/x-python",
   "name": "python",
   "nbconvert_exporter": "python",
   "pygments_lexer": "ipython3",
   "version": "3.8.12"
  }
 },
 "nbformat": 4,
 "nbformat_minor": 5
}
