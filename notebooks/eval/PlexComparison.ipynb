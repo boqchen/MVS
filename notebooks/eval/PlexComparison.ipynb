{
 "cells": [
  {
   "cell_type": "code",
   "execution_count": null,
   "id": "b26f6b4f",
   "metadata": {},
   "outputs": [],
   "source": [
    "import numpy as np\n",
    "import pandas as pd\n",
    "from pathlib import Path\n",
    "import os\n",
    "import matplotlib.pyplot as plt\n",
    "import seaborn as sns\n",
    "\n",
    "import sys \n",
    "root_code = os.path.dirname(os.path.dirname(os.getcwd()))\n",
    "sys.path.insert(0, root_code)\n",
    "\n",
    "from codebase.utils.constants import *\n",
    "from codebase.utils.eval_utils import *"
   ]
  },
  {
   "cell_type": "code",
   "execution_count": null,
   "id": "d02bc4b6",
   "metadata": {},
   "outputs": [],
   "source": [
    "project_path = Path('/raid/sonali/project_mvs/')\n",
    "resolution = 'level_2'\n",
    "metric = 'pcorr'\n",
    "data_set = 'test'"
   ]
  },
  {
   "cell_type": "code",
   "execution_count": null,
   "id": "8d100bc6",
   "metadata": {},
   "outputs": [],
   "source": [
    "multi_job_id = 'mj3pqeyk_dataaug-v2-flip_split3_selected-snr_no-wt_no-checkerboard'\n",
    "# single_job_ids = ['gj5tmvbv_dataaug-v2-flip_split3_TLS-set_no-wt_no-checkerboard',\n",
    "#                   '2hi61lsy_dataaug-v2-flip_split3_pseudo_multiplex_ki67-correlates_no-wt_no-checkerboard',\n",
    "#                  'itlm98w1_dataaug-v2-flip_split3_pseudo_multiplex_CD16-correlates_no-wt_no-checkerboard',\n",
    "#                  'xyzit76o_dataaug-v2-flip_split3_pseudo_multiplex_prots-tls_no-wt_no-checkerboard',\n",
    "#                  #'ksta6ini_dataaug-v2-flip_split3_CD3_single-scale_no-wt_no-checkerboard',\n",
    "#                 #'boxs4un5_dataaug-v2-flip_split3_MelanA_single-scale_no-wt_no-checkerboard',\n",
    "#                 'gyhp2tax_dataaug-v2-flip_split3_MelanA_singlescale_multiscaleL1_no-wt_no-checkerboard',\n",
    "#                  '0jpt9ixq_dataaug-v2-flip_split3_pseudo_multiplex_no-wt_no-checkerboard',\n",
    "#                   'tzav1irg_dataaug-v2-flip_split3_real-multiplex-pseudoset_no-wt_no-checkerboard',\n",
    "#                  '1kh90kst_dataaug-v2-flip_split3_pseudo_multiplex_selected-snr-set_no-wt_no-checkerboard',\n",
    "#                  'mjyaz45s_dataaug-v2-flip_split3_CD16-correlates_no-wt_no-checkerboard',\n",
    "#                 '1id1naof_dataaug-v2-flip_split3_Ki67-correlates_no-wt_no-checkerboard']\n",
    "\n",
    "#single_job_ids = ['1kh90kst_dataaug-v2-flip_split3_pseudo_multiplex_selected-snr-set_no-wt_no-checkerboard']\n",
    "\n",
    "# # comparison with SOTA (note: replace MelanA with an old run as new gave empty Pcorr)\n",
    "# single_job_ids = ['1kh90kst_dataaug-v2-flip_split3_pseudo_multiplex_selected-snr-set_no-wt_no-checkerboard',\n",
    "#                   '6qmjfq1j_split3_otsu3_selected-snr_nocheck_multiscaleL1',\n",
    "#                   '83gt7vmy_split3_otsu3_CD8a_nocheck_multiscaleL1',\n",
    "#                   'dgh62fj8_split3_otsu3_CD31_nocheck_multiscaleL1',\n",
    "#                   'mrv2c8gb_split3_otsu3_CD3_nocheck_multiscaleL1',\n",
    "# '6qmjfq1j_split3_otsu3_selected-snr_nocheck_multiscaleL1',\n",
    "# 'vphnmeya_split3_otsu3_CD16_nocheck_multiscaleL1',\n",
    "# 'h7ptujju_split3_otsu3_CD20_nocheck_multiscaleL1',\n",
    "# 'a1h0zpii_split3_otsu3_S100_nocheck_multiscaleL1',\n",
    "#                   'gyhp2tax_dataaug-v2-flip_split3_MelanA_singlescale_multiscaleL1_no-wt_no-checkerboard',\n",
    "#                   #'g7yzujop_split3_otsu3_MelanA_nocheck_multiscaleL1',\n",
    "# 'j3pctguk_split3_otsu3_HLA-DR_nocheck_multiscaleL1',\n",
    "# '3y5fva4l_split3_otsu3_HLA-ABC_nocheck_multiscaleL1',\n",
    "# 'op0d4key_split3_otsu3_gp100_nocheck_multiscaleL1',\n",
    "# 'r5tutuxj_split3_otsu3_GLUT1_nocheck_multiscaleL1']\n",
    "\n",
    "# Comparison of hyperparameter settings for CD20\n",
    "single_job_ids = ['gj5tmvbv_dataaug-v2-flip_split3_TLS-set_no-wt_no-checkerboard',\n",
    "                  '1kh90kst_dataaug-v2-flip_split3_pseudo_multiplex_selected-snr-set_no-wt_no-checkerboard',\n",
    "                  'tsv2bo1j_split3_otsu3_CD20_nocheck_orthogonal-init',\n",
    "'8ptr128i_split3_otsu3_CD20_nocheck_xavier-init',\n",
    "'qanp5d29_split3_otsu3_CD20_nocheck_kaiming-init',\n",
    "'k64a5v68_split3_otsu3_CD20_nocheck_normal-init',\n",
    "'fiko74v9_split3_otsu3_cd20_lrtransfixedsmall_lrdisfixedsmall',\n",
    "'2uka27a1_split3_otsu3_cd20_lrtransstep_lrdisstep',\n",
    "'7bcn11nu_split3_otsu3_cd20_lrtranscosine_lrdiscosine',\n",
    "                 'h7ptujju_split3_otsu3_CD20_nocheck_multiscaleL1',\n",
    "                 '6qmjfq1j_split3_otsu3_selected-snr_nocheck_multiscaleL1']\n",
    "\n",
    "\n",
    "job_ids = single_job_ids.copy()\n",
    "job_ids.append(multi_job_id)"
   ]
  },
  {
   "cell_type": "code",
   "execution_count": null,
   "id": "9853d776",
   "metadata": {},
   "outputs": [],
   "source": [
    "# Load metric values from all jobs\n",
    "eval_df = pd.DataFrame()\n",
    "for job_id in job_ids:\n",
    "    epoch = get_best_epoch_w_imgs(project_path, job_id)\n",
    "    eval_path = project_path.joinpath('results', job_id, data_set+'_eval', epoch, resolution, 'avgkernel_64')\n",
    "    try:\n",
    "        df = pd.read_csv(eval_path.joinpath(metric+'-eval.csv'), index_col=[0])\n",
    "    except FileNotFoundError:\n",
    "        print(job_id)\n",
    "        continue\n",
    "    job_args = json.load(open(eval_path.joinpath('eval_args.txt')))\n",
    "    df['avg_kernel'] = job_args['avg_kernel']\n",
    "    df['job_id'] = job_id\n",
    "    #df['plex'] = job_id.split('_')[0] \n",
    "    df['plex'] = 'single' if job_id in single_job_ids else 'multi'\n",
    "    eval_df = pd.concat([eval_df,df])"
   ]
  },
  {
   "cell_type": "code",
   "execution_count": null,
   "id": "497af669",
   "metadata": {},
   "outputs": [],
   "source": [
    "# multi_job_id is always the last one, thus can use the epoch and resolution from previous cell\n",
    "SAVE_PATH = project_path.joinpath('results',multi_job_id, data_set+'_pics', epoch, resolution)\n",
    "if not os.path.exists(SAVE_PATH):\n",
    "    SAVE_PATH.mkdir(parents=True, exist_ok=False)\n",
    "save_fname = '_'.join([x.split('_')[0] for x in job_ids])\n",
    "dry_run = True"
   ]
  },
  {
   "cell_type": "code",
   "execution_count": null,
   "id": "a4569063",
   "metadata": {},
   "outputs": [],
   "source": [
    "# Make sure that all jobs used the same averaging kernel\n",
    "eval_df.avg_kernel.unique()"
   ]
  },
  {
   "cell_type": "markdown",
   "id": "472f2f57",
   "metadata": {},
   "source": [
    "# Plot comparison between multi and single (if one provided) as scatterplot, colored by protein"
   ]
  },
  {
   "cell_type": "code",
   "execution_count": null,
   "id": "df3ad090",
   "metadata": {},
   "outputs": [],
   "source": [
    "if len(single_job_ids)==1:\n",
    "    plot_df = eval_df.pivot(index=['protein', 'sample_roi'], columns='plex', values='pcorr').reset_index()\n",
    "    fig, ax = plt.subplots(figsize=(8,6))\n",
    "    sns.scatterplot(data=plot_df, x='single', y='multi',hue='protein', palette='tab20')\n",
    "    ax.plot([-0.5,1], [-0.5,1], linestyle='--', color='grey')"
   ]
  },
  {
   "cell_type": "markdown",
   "id": "03d6b267",
   "metadata": {},
   "source": [
    "# SOTA comparison"
   ]
  },
  {
   "cell_type": "code",
   "execution_count": null,
   "id": "0acdb807",
   "metadata": {},
   "outputs": [],
   "source": [
    "# sota_df = eval_df.copy()\n",
    "# sota_df['plex'] = [x.replace('single', 'singleSOTA').replace('multi', 'multiMVS') for x in sota_df['plex'].to_list()]\n",
    "# sota_df.loc[sota_df['job_id']=='6qmjfq1j_split3_otsu3_selected-snr_nocheck_multiscaleL1','plex'] = 'multiSOTA'\n",
    "# sota_df.loc[sota_df['job_id']=='1kh90kst_dataaug-v2-flip_split3_pseudo_multiplex_selected-snr-set_no-wt_no-checkerboard','plex'] = 'singleMVS'\n",
    "\n",
    "# plot_df = sota_df.sort_values(by=['protein','plex'])#.pivot(index=['protein', 'sample_roi'], columns='plex', values='pcorr').reset_index()\n",
    "# fig, ax = plt.subplots(figsize=(8,6))\n",
    "# sns.boxplot(data=plot_df, x='pcorr', y='protein',hue='plex', palette='tab10')\n"
   ]
  },
  {
   "cell_type": "markdown",
   "id": "45a0bb2a",
   "metadata": {},
   "source": [
    "# CD20 comparison"
   ]
  },
  {
   "cell_type": "code",
   "execution_count": null,
   "id": "21196d85",
   "metadata": {},
   "outputs": [],
   "source": [
    "plot_df = eval_df.loc[eval_df['protein']=='CD20',:]\n",
    "fig, ax = plt.subplots(figsize=(8,6))\n",
    "sns.boxplot(data=plot_df, x='pcorr', y='job_id', dodge=False, color='lightblue')\n",
    "plt.ylabel('')"
   ]
  },
  {
   "cell_type": "markdown",
   "id": "8e021ae9",
   "metadata": {},
   "source": [
    "# Boxplots comparing performance between jobs"
   ]
  },
  {
   "cell_type": "code",
   "execution_count": null,
   "id": "0f083b94",
   "metadata": {},
   "outputs": [],
   "source": [
    "if len(single_job_ids)>1:\n",
    "    fig, ax = plt.subplots(figsize=(6,14))\n",
    "    sns.boxplot(x='pcorr', y='protein', data=eval_df, showfliers=False, ax=ax, hue='job_id', palette='tab20')\n",
    "    #sns.stripplot(x='pcorr', y='protein', data=plot_df, ax=ax, hue='nuclei_slice_sim', palette='Accent', dodge=True)\n",
    "    plt.ylabel('')\n",
    "    plt.xlabel('Pearson correlation')\n",
    "    ax.axvline(0,linestyle='--', color='grey')\n",
    "    plt.legend(bbox_to_anchor=(1,1))\n",
    "else:\n",
    "    fig, ax = plt.subplots(figsize=(6,4))\n",
    "    sns.boxplot(x='pcorr', y='protein', data=eval_df.sort_values(by=['plex','protein']), showfliers=False, ax=ax, hue='plex', palette='tab20')\n",
    "    #sns.stripplot(x='pcorr', y='protein', data=plot_df, ax=ax, hue='nuclei_slice_sim', palette='Accent', dodge=True)\n",
    "    plt.ylabel('')\n",
    "    plt.xlabel('Pearson correlation')\n",
    "    ax.axvline(0,linestyle='--', color='grey')\n",
    "    plt.legend(bbox_to_anchor=(1,1))\n",
    "    plt.show()\n",
    "    \n",
    "    # plot only shared proteins\n",
    "    shared_prots = [x for x in eval_df.loc[eval_df.plex=='single','protein'].unique() if x in eval_df.loc[eval_df.plex=='multi','protein'].unique()]\n",
    "    fig, ax = plt.subplots(figsize=(6,4))\n",
    "    sns.boxplot(x='pcorr', y='protein', data=eval_df.loc[eval_df.protein.isin(shared_prots),:].sort_values(by=['plex', 'protein']), showfliers=False, ax=ax, hue='plex', palette='tab20')\n",
    "    #sns.stripplot(x='pcorr', y='protein', data=plot_df, ax=ax, hue='nuclei_slice_sim', palette='Accent', dodge=True)\n",
    "    plt.ylabel('')\n",
    "    plt.xlabel(\"Pearson's correlation coeff.\")\n",
    "    ax.axvline(0,linestyle='--', color='grey')\n",
    "    plt.legend(bbox_to_anchor=(1,1))\n",
    "    if not dry_run:\n",
    "        plt.savefig(SAVE_PATH.joinpath(save_fname+'-pcorr_plex.png'), bbox_inches='tight', dpi=300)\n",
    "        plt.savefig(SAVE_PATH.joinpath(save_fname+'-pcorr_plex.pdf'), bbox_inches='tight', dpi=300)\n",
    "    plt.show()"
   ]
  },
  {
   "cell_type": "markdown",
   "id": "41399155",
   "metadata": {},
   "source": [
    "# Export aggregated metrics to latex\n",
    "Use either mean +/- std or median with IQR"
   ]
  },
  {
   "cell_type": "code",
   "execution_count": null,
   "id": "d8d5b2b1",
   "metadata": {},
   "outputs": [],
   "source": [
    "agg_type = 'median' #'mean'"
   ]
  },
  {
   "cell_type": "code",
   "execution_count": null,
   "id": "ae3bb930",
   "metadata": {},
   "outputs": [],
   "source": [
    "# Mean +/- std\n",
    "if agg_type == 'mean':\n",
    "    corr_agg = eval_df.loc[eval_df.protein.isin(shared_prots),:]\n",
    "    corr_agg = corr_agg.drop(columns=['sample_roi', 'sample_id', 'roi', 'job_id']).groupby(['protein', 'plex']).pcorr.agg(['mean', 'std'])\n",
    "    corr_agg = round(corr_agg,2).reset_index()\n",
    "    corr_agg['mean'] = ['-' if np.isnan(x) else x for x in corr_agg['mean']]\n",
    "    corr_agg['std'] = ['-' if np.isnan(x) else x for x in corr_agg['std']]\n",
    "    #corr_agg['mean_std'] = [str(x)+' ('+str(y)+')' for x,y in zip(corr_agg['mean'], corr_agg['std'])]\n",
    "    corr_agg['mean_std'] = [[str(x),'('+str(y)+')'] for x,y in zip(corr_agg['mean'], corr_agg['std'])]\n",
    "    corr_agg = corr_agg.explode('mean_std')\n",
    "    corr_agg['plex'] = [x+str(0) if i%2 == 0 else x+str(1) for i,x in enumerate(corr_agg['plex'])]\n",
    "    corr_agg = corr_agg.pivot(index='plex', columns='protein', values='mean_std')\n",
    "    corr_agg"
   ]
  },
  {
   "cell_type": "code",
   "execution_count": null,
   "id": "433ccd89",
   "metadata": {},
   "outputs": [],
   "source": [
    "# Median(IQR)\n",
    "if agg_type == 'median':\n",
    "    def q25(x):\n",
    "        return x.quantile(0.25)\n",
    "    def q75(x):\n",
    "        return x.quantile(0.75)\n",
    "    def iqr(x):\n",
    "        return x.quantile(0.75)-x.quantile(0.25)\n",
    "\n",
    "#     corr_agg = eval_df.loc[eval_df.protein.isin(shared_prots),:]\n",
    "#     corr_agg = corr_agg.drop(columns=['sample_roi', 'sample_id', 'roi', 'job_id']).groupby(['protein', 'plex']).pcorr.agg(['median', q25,q75,iqr])\n",
    "#     corr_agg = round(corr_agg,2).reset_index()\n",
    "#     corr_agg['median_iqr'] = [str(x)+' ('+str(y)+','+str(z)+')' for x,y,z in zip(corr_agg['median'], corr_agg['q25'], corr_agg['q75'])]\n",
    "#     corr_agg['median_iqr'] = ['NaN' if np.isnan(x) else corr_agg['median_iqr'][i] for i,x in enumerate(corr_agg['median'])]\n",
    "#     corr_agg = corr_agg.pivot(index='plex', columns='protein', values='median_iqr')\n",
    "#     corr_agg\n",
    "\n",
    "    corr_agg = eval_df.loc[eval_df.protein.isin(shared_prots),:]\n",
    "    corr_agg = corr_agg.drop(columns=['sample_roi', 'sample_id', 'roi', 'job_id']).groupby(['protein', 'plex']).pcorr.agg(['median', q25,q75,iqr])\n",
    "    corr_agg = round(corr_agg,2).reset_index()\n",
    "    # print median and IQR in two consecutive lines\n",
    "    corr_agg['median_iqr'] = [[str(x), '('+str(y)+','+str(z)+')'] for x,y,z in zip(corr_agg['median'], corr_agg['q25'], corr_agg['q75'])]\n",
    "    corr_agg['median_iqr'] = [['-','-'] if np.isnan(x) else corr_agg['median_iqr'][i] for i,x in enumerate(corr_agg['median'])]\n",
    "    corr_agg['median'] = ['-' if np.isnan(x) else x for x in corr_agg['median']]\n",
    "    corr_agg = corr_agg.explode('median_iqr')\n",
    "    #corr_agg['plex'] = [x+str(0) if i%2 == 0 else x+str(1) for i,x in enumerate(corr_agg['plex'])]\n",
    "    corr_agg['plex'] = [x+' median' if i%2 == 0 else x+' IQR' for i,x in enumerate(corr_agg['plex'])]\n",
    "    corr_agg = corr_agg.pivot(index='plex', columns='protein', values='median_iqr')\n",
    "    corr_agg"
   ]
  },
  {
   "cell_type": "code",
   "execution_count": null,
   "id": "3fc078e3",
   "metadata": {},
   "outputs": [],
   "source": [
    "corr_agg_latex = corr_agg.copy()\n",
    "corr_agg_latex.index = corr_agg_latex.index.get_level_values(0)\n",
    "corr_agg_latex.index.name = None\n",
    "corr_agg_latex.columns.name = None\n",
    "display(corr_agg_latex)\n",
    "for i,x in enumerate(corr_agg_latex.index):\n",
    "    if x=='mean':\n",
    "        corr_agg_latex.iloc[i,:] = corr_agg_latex.iloc[i,:].apply(lambda x: '\\\\textbf{'+str(x)+'}')\n",
    "print(corr_agg_latex.to_latex(escape=False))"
   ]
  }
 ],
 "metadata": {
  "kernelspec": {
   "display_name": "Python 3",
   "language": "python",
   "name": "python3"
  },
  "language_info": {
   "codemirror_mode": {
    "name": "ipython",
    "version": 3
   },
   "file_extension": ".py",
   "mimetype": "text/x-python",
   "name": "python",
   "nbconvert_exporter": "python",
   "pygments_lexer": "ipython3",
   "version": "3.8.12"
  }
 },
 "nbformat": 4,
 "nbformat_minor": 5
}
