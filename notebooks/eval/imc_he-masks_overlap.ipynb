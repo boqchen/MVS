{
 "cells": [
  {
   "cell_type": "code",
   "execution_count": null,
   "id": "8d8d03d8",
   "metadata": {},
   "outputs": [],
   "source": [
    "import numpy as np\n",
    "import pandas as pd\n",
    "from skimage import draw\n",
    "from pathlib import Path\n",
    "import argparse\n",
    "import os\n",
    "import json\n",
    "import cv2\n",
    "import torch\n",
    "import torchvision.transforms.functional as ttf\n",
    "import matplotlib.pyplot as plt\n",
    "from scipy.stats.stats import pearsonr, spearmanr\n",
    "\n",
    "import sys \n",
    "root_code = os.path.dirname(os.path.dirname(os.getcwd()))\n",
    "sys.path.insert(0, root_code)\n",
    "\n",
    "from codebase.utils.constants import *\n"
   ]
  },
  {
   "cell_type": "code",
   "execution_count": null,
   "id": "07091126",
   "metadata": {},
   "outputs": [],
   "source": [
    "PROJECT_PATH = Path('/raid/sonali/project_mvs/') #Path('/cluster/work/grlab/projects/projects2021-multivstain/')\n",
    "# INPUT_PATH is only used to get coords\n",
    "#INPUT_PATH = PROJECT_PATH.joinpath('data/tupro/binary_imc_rois_raw/')\n",
    "# load from cv splits\n",
    "cv = json.load(open(PROJECT_PATH.joinpath(CV_SPLIT_ROIS_PATH)))\n",
    "cv_split = 'split3'\n",
    "data_set = 'all' # {train, valid, test, all}\n",
    "if data_set == 'all':\n",
    "    sample_rois = cv[cv_split]['train']\n",
    "    sample_rois.extend(cv[cv_split]['valid'])\n",
    "    sample_rois.extend(cv[cv_split]['test'])\n",
    "else:\n",
    "    sample_rois = cv[cv_split][data_set]"
   ]
  },
  {
   "cell_type": "code",
   "execution_count": null,
   "id": "18f3aaa9",
   "metadata": {},
   "outputs": [],
   "source": [
    "he_coords = pd.read_csv(PROJECT_PATH.joinpath('meta/hovernet/hovernet_nuclei-coordinates_all-samples.csv'))\n",
    "he_coords = he_coords.loc[he_coords.sample_roi.isin(sample_rois),:]\n",
    "he_coords['X'] = he_coords['X']//4\n",
    "he_coords['Y'] = he_coords['Y']//4\n",
    "imc_coords = pd.read_csv(PROJECT_PATH.joinpath('data/tupro/imc_updated/coldata.tsv'), sep='\\t')\n",
    "imc_coords = imc_coords.loc[imc_coords.sample_roi.isin(sample_rois),:]"
   ]
  },
  {
   "cell_type": "code",
   "execution_count": null,
   "id": "e8dba9b5",
   "metadata": {},
   "outputs": [],
   "source": [
    "he_coords.head(2)"
   ]
  },
  {
   "cell_type": "markdown",
   "id": "de729c19",
   "metadata": {},
   "source": [
    "# Plot nuclei densities (and their overlap)"
   ]
  },
  {
   "cell_type": "code",
   "execution_count": null,
   "id": "20ed67fe",
   "metadata": {
    "scrolled": false
   },
   "outputs": [],
   "source": [
    "plot_density = True\n",
    "alpha = 0.6\n",
    "axmax = 1024 #1000\n",
    "resolutions = [64]# [1,4,16,32,64,75,128,256] (if plotting across many ROIs then best to reduce number of resolutions)\n",
    "\n",
    "for desired_resolution_px in resolutions:\n",
    "    #print(desired_resolution_px)\n",
    "    \n",
    "    n_bins = axmax//desired_resolution_px\n",
    "    x_bins = np.linspace(0, 1000, n_bins+1)\n",
    "    y_bins = np.linspace(0, 1000, n_bins+1)\n",
    "\n",
    "    for s_roi in sample_rois[:1]:\n",
    "        # HE nuclei density\n",
    "        df_roi = he_coords.loc[he_coords.sample_roi==s_roi,:]\n",
    "        density_he, _, _ = np.histogram2d(df_roi['X'],df_roi['Y'], [x_bins, y_bins], density=True)\n",
    "        # IMC nuclei density\n",
    "        df_roi = imc_coords.loc[imc_coords['sample_roi']==s_roi,:]\n",
    "        density_imc, _, _ = np.histogram2d(df_roi['X'],df_roi['Y'], [x_bins, y_bins], density=True)\n",
    "        # plot density\n",
    "        if plot_density:\n",
    "            fig, axes = plt.subplots(1, 3, figsize=(8,2))\n",
    "            axes[0].imshow(density_he, interpolation='spline36', cmap='Blues', alpha=1)\n",
    "            axes[0].set_title('H&E \\n resolution in px: '+str(desired_resolution_px)+'\\n n_bins: '+str(n_bins**2))\n",
    "            axes[1].imshow(density_imc, interpolation='spline36', cmap='Oranges', alpha=1)\n",
    "            axes[1].set_title('IMC \\n resolution in px: '+str(desired_resolution_px)+'\\n n_bins: '+str(n_bins**2))\n",
    "            axes[2].imshow(density_he, interpolation='spline36', cmap='Blues', alpha=alpha)\n",
    "            axes[2].imshow(density_imc, interpolation='spline36', cmap='Oranges', alpha=alpha)\n",
    "            axes[2].set_title('Blue: H&E, Orange: IMC \\n resolution in px: '+str(desired_resolution_px)+'\\n n_bins: '+str(n_bins**2))\n",
    "            plt.show()\n",
    "    \n"
   ]
  },
  {
   "cell_type": "markdown",
   "id": "ddb36ec1",
   "metadata": {},
   "source": [
    "# Aggregate density comparisons"
   ]
  },
  {
   "cell_type": "code",
   "execution_count": null,
   "id": "a772b0c3",
   "metadata": {},
   "outputs": [],
   "source": [
    "# Aggregated (mean or median) metric per resolution\n",
    "axmax = '1024' #'1000'\n",
    "agg_method = 'mean' #'median'\n",
    "agg_df_all = pd.DataFrame()\n",
    "for metric in ['pcorr', 'spcorr']:\n",
    "    for data_set in ['all', 'split3_train', 'split3_valid', 'split3_test']:\n",
    "        pcorr_df_all = pd.read_csv(PROJECT_PATH.joinpath('meta','nuclei_density', 'nuclei_density-he_imc-'+data_set+'-'+metric+'-max'+axmax+'.tsv'), sep='\\t', index_col=[0])\n",
    "        if agg_method=='mean':\n",
    "            agg_df = pcorr_df_all.mean().to_frame(metric+'-'+data_set)\n",
    "        elif agg_method=='median':\n",
    "            agg_df = pcorr_df_all.median().to_frame(metric+'-'+data_set)\n",
    "        agg_df.index = [x.split('_')[-1] for x in agg_df.index.to_list()]\n",
    "        agg_df_all = pd.concat([agg_df_all, agg_df], axis=1)\n",
    "agg_df_all"
   ]
  },
  {
   "cell_type": "code",
   "execution_count": null,
   "id": "71c16d2d",
   "metadata": {},
   "outputs": [],
   "source": [
    "plt.figure(figsize=(4,3))\n",
    "plt.plot(agg_df_all['pcorr-all'])\n",
    "plt.scatter(agg_df_all['pcorr-all'].index, agg_df_all['pcorr-all'])\n",
    "plt.ylim(-0.01,1)\n",
    "plt.ylabel('Pearson correlation')\n",
    "plt.xlabel('Resolution in pixels')"
   ]
  },
  {
   "cell_type": "markdown",
   "id": "2c2d9dee",
   "metadata": {},
   "source": [
    "# Plot pointwise nuclei locations (and their overlap)"
   ]
  },
  {
   "cell_type": "code",
   "execution_count": null,
   "id": "8a13c319",
   "metadata": {
    "scrolled": false
   },
   "outputs": [],
   "source": [
    "yaxlim = (250,506)\n",
    "xaxlim = (250,506)\n",
    "\n",
    "for s_roi in sample_rois:\n",
    "\n",
    "    image_he_3ch = np.load(PROJECT_PATH.joinpath(DATA_DIR, 'binary_he_rois', s_roi+'.npy'))\n",
    "    image_he_3ch = torch.from_numpy(image_he_3ch.copy().transpose(2,0,1))\n",
    "    image_he_3ch = ttf.resize(image_he_3ch, image_he_3ch.shape[1]//4)\n",
    "    image_he_3ch = np.asarray(image_he_3ch).transpose(1,2,0)\n",
    "    \n",
    "    #x_max, y_max, _ = np.load(INPUT_PATH.joinpath(s_roi+'.npy'), mmap_mode='r').shape\n",
    "    x_max = 1000\n",
    "    y_max = 1000\n",
    "    # need to reset index to iterate through both he and imc\n",
    "    imc = imc_coords.loc[imc_coords['sample_roi']==s_roi,:].reset_index(drop=True)\n",
    "    he = he_coords.loc[he_coords['sample_roi']==s_roi,:].reset_index(drop=True)\n",
    "    \n",
    "    image_he_null = np.zeros((x_max, y_max, 1))\n",
    "    image_imc_null = np.zeros((x_max, y_max, 1))\n",
    "    image_joint_null = np.zeros((x_max, y_max, 1))\n",
    "    fig, axes = plt.subplots(1, 4, figsize=(20,5))\n",
    "    for idx, row in he.iterrows():\n",
    "        image_he = cv2.circle(image_he_null, (row['X'], row['Y']), 5, (50, 141, 168), -1)\n",
    "        image_joint = cv2.circle(image_joint_null, (row['X'], row['Y']), 5, (50, 141, 168), -1)\n",
    "    for idx, row in imc.iterrows():\n",
    "        image_imc = cv2.circle(image_imc_null, (row['X'], row['Y']), 5, (191, 127, 78), -1)\n",
    "        image_joint = cv2.circle(image_joint_null, (row['X'], row['Y']), 5, (191, 127, 78), -1)\n",
    "    \n",
    "    \n",
    "    axes[0].imshow(image_he_3ch, origin='lower')\n",
    "    axes[1].imshow(image_he, origin='lower', cmap='Blues')\n",
    "    axes[1].set_title('H&E')\n",
    "    axes[2].imshow(image_imc, origin='lower', cmap='Greens')\n",
    "    axes[2].set_title('IMC')\n",
    "    axes[3].imshow(image_joint, origin='lower', cmap='ocean_r')\n",
    "    axes[3].set_title('Joint')\n",
    "    fig.set_facecolor(\"white\")\n",
    "    for j in range(len(axes)):\n",
    "#         if j == 0:\n",
    "#             axes[j].set_ylim((yaxlim[0]*4, yaxlim[1]*4))\n",
    "#             axes[j].set_xlim((xaxlim[0]*4, xaxlim[1]*4))\n",
    "#         else:\n",
    "        axes[j].set_ylim(yaxlim)\n",
    "        axes[j].set_xlim(xaxlim)\n",
    "    fig.suptitle(s_roi)\n",
    "    plt.show()"
   ]
  }
 ],
 "metadata": {
  "kernelspec": {
   "display_name": "Python 3",
   "language": "python",
   "name": "python3"
  },
  "language_info": {
   "codemirror_mode": {
    "name": "ipython",
    "version": 3
   },
   "file_extension": ".py",
   "mimetype": "text/x-python",
   "name": "python",
   "nbconvert_exporter": "python",
   "pygments_lexer": "ipython3",
   "version": "3.8.12"
  }
 },
 "nbformat": 4,
 "nbformat_minor": 5
}
