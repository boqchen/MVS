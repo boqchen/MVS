{
 "cells": [
  {
   "cell_type": "code",
   "execution_count": null,
   "id": "aaef331e",
   "metadata": {},
   "outputs": [],
   "source": [
    "import numpy as np\n",
    "import pandas as pd\n",
    "from pathlib import Path\n",
    "import matplotlib.pyplot as plt\n",
    "import seaborn as sns\n",
    "import os"
   ]
  },
  {
   "cell_type": "code",
   "execution_count": null,
   "id": "f8521858",
   "metadata": {},
   "outputs": [],
   "source": [
    "def metric_across_epochs(project_path, submission_id, level=2, data_set='valid', protein='agg', metric='pcorr', ylim=None, return_df=False):\n",
    "    ''' Plot eval metric across epochs for a given set (eg valid)\n",
    "    project_path: base project path, eg /cluster/work/grlab/projects/projects2021-multivstain/\n",
    "    submission_id: job submission_id\n",
    "    level: resolution level (2,4,6)\n",
    "    data_set: which data split to use (train, valid, test)\n",
    "    protein: selected proteins (separated by comma) or \"agg\" for aggregated stats\n",
    "    metric: evauation metric used (eg pcorr)\n",
    "    ylim: limits of y-axis\n",
    "    '''\n",
    "    fpath = Path(project_path).joinpath('results', submission_id, 'chkpt_selection')\n",
    "    fname = metric+'_across_epochs-level_'+str(level)+'-'+data_set+'.csv'\n",
    "    assert os.path.exists(fpath.joinpath(fname)), 'Requested file does not exist'\n",
    "    df = pd.read_csv(fpath.joinpath(fname), index_col=[0])\n",
    "    df = df.reset_index(drop=True)\n",
    "    if protein=='agg':\n",
    "        df = df.drop_duplicates('epoch')\n",
    "        yaxis = 'agg_per_epoch'\n",
    "        hue = None\n",
    "    else:\n",
    "        proteins = protein.split(',')\n",
    "        df = df.loc[df.protein.isin(proteins),:]\n",
    "        yaxis = metric\n",
    "        hue = 'protein'\n",
    "    sns.scatterplot(x='epoch', y=yaxis, data=df, hue=hue, legend=False)\n",
    "    sns.lineplot(x='epoch', y=yaxis, data=df, hue=hue)\n",
    "    if ylim is not None:\n",
    "        plt.ylim(ylim)\n",
    "    if hue is not None:\n",
    "        plt.legend(bbox_to_anchor=(1,1))\n",
    "    plt.show()\n",
    "    if return_df:\n",
    "        return df\n",
    "    \n",
    "    \n",
    "def metric_across_epochs_sets(project_path, submission_id, level=2, data_set1='valid', data_set2='train', protein='agg', metric='pcorr', ylim=None):\n",
    "    ''' Plot eval metric across epochs and across data splits (data_set1, data_set2 eg valid and train)\n",
    "    project_path: base project path, eg /cluster/work/grlab/projects/projects2021-multivstain/\n",
    "    submission_id: job submission_id\n",
    "    level: resolution level (2,4,6)\n",
    "    data_set: which data split to use (train, valid, test)\n",
    "    protein: selected proteins (separated by comma) or \"agg\" for aggregated stats\n",
    "    metric: evauation metric used (eg pcorr)\n",
    "    ylim: limits of y-axis\n",
    "    '''\n",
    "    fpath = Path(project_path).joinpath('results', submission_id, 'chkpt_selection')\n",
    "    fname = metric+'_across_epochs-level_'+str(level)+'-'+data_set1+'.csv'\n",
    "    assert os.path.exists(fpath.joinpath(fname)), 'Requested file does not exist'\n",
    "    df = pd.read_csv(fpath.joinpath(fname), index_col=[0])\n",
    "    df['data_set'] = data_set1\n",
    "    assert os.path.exists(fpath.joinpath(fname.replace(data_set1, data_set2))), 'Requested file does not exist'\n",
    "    df_train = pd.read_csv(fpath.joinpath(fname.replace(data_set1, data_set2)), index_col=[0])\n",
    "    df_train['data_set'] = data_set2\n",
    "    df = pd.concat([df, df_train])\n",
    "    df = df.reset_index(drop=True)\n",
    "    \n",
    "    proteins = protein.split(',')\n",
    "    if protein=='agg':\n",
    "        df = df.loc[:,['epoch', 'data_set', 'agg_per_epoch']].drop_duplicates(['epoch', 'data_set'])\n",
    "        df['protein'] = 'agg'\n",
    "        yaxis = 'agg_per_epoch'\n",
    "    else:\n",
    "        df = df.loc[df.protein.isin(proteins),:]\n",
    "        yaxis = metric\n",
    "    for protein in proteins:\n",
    "        sns.lineplot(x='epoch', y=yaxis, data=df.loc[df.protein==protein,:], hue='data_set')\n",
    "        if ylim is not None:\n",
    "            plt.ylim(ylim)\n",
    "        plt.legend(bbox_to_anchor=(1,1))\n",
    "        plt.title(protein)\n",
    "        plt.show()\n"
   ]
  },
  {
   "cell_type": "code",
   "execution_count": null,
   "id": "b31a386f",
   "metadata": {},
   "outputs": [],
   "source": [
    "project_path = '/raid/sonali/project_mvs/'\n",
    "submission_id = \"mj3pqeyk_dataaug-v2-flip_split3_selected-snr_no-wt_no-checkerboard\"\n",
    "data_set = 'valid'"
   ]
  },
  {
   "cell_type": "code",
   "execution_count": null,
   "id": "95750929",
   "metadata": {},
   "outputs": [],
   "source": [
    "# for a given dataset\n",
    "metric_across_epochs(project_path, submission_id, level=2, data_set=data_set, protein='agg')#, ylim=(-0.1,0.3))\n",
    "metric_across_epochs(project_path, submission_id, level=2, data_set=data_set, protein='MelanA,CD3,CD8a,CD20')#, ylim=(-0.1,0.3))"
   ]
  },
  {
   "cell_type": "code",
   "execution_count": null,
   "id": "43010dbc",
   "metadata": {},
   "outputs": [],
   "source": [
    "# look at top 10 epochs wrt aggregated metric (looking at agg_per_epoch column)\n",
    "df = metric_across_epochs(project_path, submission_id, level=2, data_set=data_set, protein='agg', return_df=True)\n",
    "display(df.sort_values(by=['agg_per_epoch']).tail(10))"
   ]
  },
  {
   "cell_type": "code",
   "execution_count": null,
   "id": "0ae0aeb8",
   "metadata": {},
   "outputs": [],
   "source": [
    "# Look at metric across epochs for a specific protein and extract the top 5 epochs (looking at pcorr column)\n",
    "for protein in ['CD20', 'MelanA']:\n",
    "    print(protein)\n",
    "    df_prot = metric_across_epochs(project_path, submission_id, level=2, data_set=data_set, protein=protein, return_df=True)\n",
    "    display(df_prot.sort_values(by=['pcorr']).tail(5))"
   ]
  },
  {
   "cell_type": "code",
   "execution_count": null,
   "id": "21d5397a",
   "metadata": {
    "scrolled": true
   },
   "outputs": [],
   "source": [
    "# # across datasets\n",
    "# metric_across_epochs_sets(project_path, submission_id, level=2, protein='agg', ylim=(-0.1,0.3))\n",
    "# metric_across_epochs_sets(project_path, submission_id, level=2, protein='MelanA,CD3,CD8a', ylim=(-0.1,0.3))"
   ]
  }
 ],
 "metadata": {
  "kernelspec": {
   "display_name": "Python 3",
   "language": "python",
   "name": "python3"
  },
  "language_info": {
   "codemirror_mode": {
    "name": "ipython",
    "version": 3
   },
   "file_extension": ".py",
   "mimetype": "text/x-python",
   "name": "python",
   "nbconvert_exporter": "python",
   "pygments_lexer": "ipython3",
   "version": "3.8.12"
  }
 },
 "nbformat": 4,
 "nbformat_minor": 5
}
