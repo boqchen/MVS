{
 "cells": [
  {
   "cell_type": "code",
   "execution_count": null,
   "id": "874454ac",
   "metadata": {},
   "outputs": [],
   "source": [
    "import numpy as np\n",
    "import pandas as pd\n",
    "from pathlib import Path\n",
    "\n",
    "import matplotlib.pyplot as plt\n",
    "import seaborn as sns\n",
    "import os\n",
    "import sys \n",
    "root_code = os.path.dirname(os.path.dirname(os.getcwd()))\n",
    "sys.path.insert(0, root_code)\n",
    "\n",
    "from codebase.utils.constants import *\n",
    "from codebase.utils.eval_utils import *"
   ]
  },
  {
   "cell_type": "markdown",
   "id": "ebff6fc4",
   "metadata": {},
   "source": [
    "# Settings"
   ]
  },
  {
   "cell_type": "code",
   "execution_count": null,
   "id": "13e7156f",
   "metadata": {},
   "outputs": [],
   "source": [
    "# arguments to specify\n",
    "project_path = Path('/raid/sonali/project_mvs/')\n",
    "data_set = 'test'\n",
    "\n",
    "job_ids=['mj3pqeyk_dataaug-v2-flip_split3_selected-snr_no-wt_no-checkerboard']\n",
    "#job_ids = ['0jpt9ixq_dataaug-v2-flip_split3_pseudo_multiplex_no-wt_no-checkerboard'] #['dn2rwhyl_split3_selectedsnr_otsu3_seed3'] #['skoe17l6_dataaug_05-0-0-0_split3_selected_snr_seed3_no-wt-init']\n",
    "#job_ids=[\"1kh90kst_dataaug-v2-flip_split3_pseudo_multiplex_selected-snr-set_no-wt_no-checkerboard\"]\n",
    "#job_ids = ['tzav1irg_dataaug-v2-flip_split3_real-multiplex-pseudoset_no-wt_no-checkerboard']\n",
    "#job_ids = ['gj5tmvbv_dataaug-v2-flip_split3_TLS-set_no-wt_no-checkerboard']\n",
    "job_id = job_ids[0]\n",
    "\n",
    "#sel_epochs=['epoch33-1']\n",
    "sel_epochs = [get_best_epoch_w_imgs(project_path, x) for x in job_ids]\n",
    "#sel_epochs = [get_last_epoch_w_imgs(project_path, x) for x in job_ids]\n",
    "\n",
    "sel_epochs = dict(zip(job_ids, sel_epochs))\n",
    "print(sel_epochs)\n",
    "\n",
    "eval_metrics = ['pcorr']\n",
    "\n",
    "SAVE_PATH = project_path.joinpath('results',job_ids[0],data_set+'_pics', sel_epochs[job_ids[0]], 'level_2')\n",
    "if not os.path.exists(SAVE_PATH):\n",
    "    SAVE_PATH.mkdir(parents=True, exist_ok=False)\n",
    "save_fname = job_ids[0].split('_')[0]\n",
    "\n",
    "\n",
    "dry_run = True"
   ]
  },
  {
   "cell_type": "code",
   "execution_count": null,
   "id": "4904c6cb",
   "metadata": {},
   "outputs": [],
   "source": [
    "# load metadata\n",
    "meta = pd.read_csv(project_path.joinpath('meta', 'melanoma-merged_clinical_data-v8.tsv'), sep='\\t')\n",
    "he_qc = pd.read_csv(project_path.joinpath('meta', 'HE-QC.tsv'), sep='\\t')"
   ]
  },
  {
   "cell_type": "markdown",
   "id": "41fee0e7",
   "metadata": {},
   "source": [
    "# Similarity of nuclei density"
   ]
  },
  {
   "cell_type": "code",
   "execution_count": null,
   "id": "a79d4273",
   "metadata": {},
   "outputs": [],
   "source": [
    "#nuclei_pcorr = pd.read_csv(project_path.joinpath('meta','nuclei_density', 'nuclei_density-he_imc-split3_'+data_set+'-'+'pcorr'+'-max'+'1024'+'.tsv'), sep='\\t', index_col=[0])\n",
    "nuclei_pcorr = pd.read_csv(project_path.joinpath('meta','nuclei_density', 'nuclei_density-he_imc-'+'all'+'-'+'pcorr'+'-max'+'1024'+'.tsv'), sep='\\t', index_col=[0])\n",
    "# using 32 as avg_kernel of size 32 was used during evaluation\n",
    "nuclei_pcorr = nuclei_pcorr.loc[:,['pcorr_64']] #pcorr_32\n",
    "nuclei_pcorr.columns = ['nuclei_sim']\n",
    "# group ROIs based on pcorr median\n",
    "nuclei_pcorr['nuclei_slice_sim'] = ['high' if x>=nuclei_pcorr['nuclei_sim'].median() else 'low' for x in nuclei_pcorr['nuclei_sim']]\n",
    "fig, ax = plt.subplots(figsize=(2,3))\n",
    "sns.boxplot(y='nuclei_sim', x='nuclei_slice_sim', data=nuclei_pcorr.sort_values(by='nuclei_slice_sim'), palette='Accent', ax=ax)\n",
    "#plt.ylim(0,1)\n",
    "plt.ylabel(\"Pearson's correlation coeff.\")\n",
    "plt.xlabel('Slice similarity')\n",
    "ax.axhline(0,linestyle='--', color='grey')\n",
    "if not dry_run:\n",
    "    plt.savefig(SAVE_PATH.joinpath(save_fname+'_nuclei_stratification.png'), bbox_inches='tight', dpi=300)\n",
    "    plt.savefig(SAVE_PATH.joinpath(save_fname+'_nuclei_stratification.pdf'), bbox_inches='tight', dpi=300)\n",
    "plt.show()"
   ]
  },
  {
   "cell_type": "markdown",
   "id": "e5ddfc47",
   "metadata": {},
   "source": [
    "# Plot boxplots of metrics per protein"
   ]
  },
  {
   "cell_type": "code",
   "execution_count": null,
   "id": "a165e2e2",
   "metadata": {},
   "outputs": [],
   "source": [
    "resolutions = ['level_2'] #, 'level_4', 'level_6']\n",
    "all_evals = dict()\n",
    "for res in resolutions:\n",
    "    for job_id in job_ids:\n",
    "        #job_evals = pd.DataFrame() #dict()\n",
    "        for i,eval_metric in enumerate(eval_metrics):\n",
    "            df = pd.read_csv(project_path.joinpath('results', job_id, data_set+'_eval', sel_epochs[job_id], res, 'avgkernel_64',eval_metric+'-eval.csv'), index_col=[0])\n",
    "            if eval_metric != 'pcorr':\n",
    "                df.index.name = 'protein'\n",
    "                df = df.reset_index()\n",
    "            #job_evals[eval_metric] = df\n",
    "            if i == 0:\n",
    "                job_evals = df\n",
    "            else:\n",
    "                job_evals = job_evals.merge(df, on=['protein', 'sample_id', 'roi'])\n",
    "        all_evals[job_id+':'+res] = job_evals\n",
    "        \n",
    "all_evals = pd.concat(all_evals)\n",
    "all_evals = all_evals.reset_index()\n",
    "all_evals.columns = [x.replace('level_0', 'job_id').replace('level_1', 'eval_metric') for x in all_evals.columns]\n",
    "all_evals = all_evals.drop(columns=['eval_metric'])\n",
    "all_evals['resolution'] = [x.split(':')[1] for x in all_evals['job_id']]\n",
    "all_evals['job_id'] = [x.split(':')[0] for x in all_evals['job_id']]"
   ]
  },
  {
   "cell_type": "code",
   "execution_count": null,
   "id": "51ecf751",
   "metadata": {},
   "outputs": [],
   "source": [
    "# Add metadata\n",
    "all_evals = all_evals.merge(meta.loc[:,['tupro_id', 'subtype_group', 'cd8_phenotype_revised']], left_on='sample_id', right_on='tupro_id', how='left')\n",
    "all_evals = all_evals.merge(he_qc.loc[:,['sample', 'status']], left_on='sample_roi', right_on='sample', how='left')\n",
    "all_evals['roi_loc'] = [x[0] if x[0] in ['C', 'F'] else 'other' for x in all_evals['roi']]\n",
    "all_evals = all_evals.merge(nuclei_pcorr, left_on='sample_roi', right_index=True, how='left')\n",
    "all_evals['rel_pcorr'] = all_evals['pcorr']/all_evals['nuclei_sim']"
   ]
  },
  {
   "cell_type": "code",
   "execution_count": null,
   "id": "abd8bb72",
   "metadata": {
    "scrolled": false
   },
   "outputs": [],
   "source": [
    "hue_cols = ['sample_id', 'status', 'subtype_group','cd8_phenotype_revised', 'roi_loc', 'nuclei_slice_sim']\n",
    "\n",
    "#eval_cols = [x for x in all_evals.columns if x not in ['job_id', 'resolution','protein','sample_roi', 'sample_id', 'roi','pval']]\n",
    "#eval_cols = [x for x in eval_cols if x.split('_')[0] not in ['overlap', 'dice', 'perc_pos', 'pixelsGT','pixelsPred']]\n",
    "eval_cols = ['pcorr'] #, 'densitycorr_0.8']#, 'rel_pcorr']\n",
    "min_metric = -1.01\n",
    "max_metric = 1.01\n",
    "\n",
    "\n",
    "for hue_col in hue_cols:\n",
    "    for metric in eval_cols:\n",
    "        for job_id in sorted(all_evals.job_id.unique()):\n",
    "            df = all_evals.loc[all_evals.job_id.isin([job_id]),:]\n",
    "            #df = df.loc[df['roi_loc']=='F',:]\n",
    "            #min_metric = df[metric].min()-0.1*df[metric].max()\n",
    "            #max_metric = df[metric].max()+0.1*df[metric].max()\n",
    "            n_resolutions = df.resolution.nunique()\n",
    "            fig, axes = plt.subplots(1,n_resolutions, figsize=(3+n_resolutions*5,5))\n",
    "            for j,res in enumerate(sorted(df.resolution.unique())):\n",
    "                ax_plot = axes[j] if n_resolutions>1 else axes\n",
    "                plot_df = df.loc[df['resolution']==res,:].sort_values(by='protein') #['sample_id','protein', metric]\n",
    "                sns.boxplot(x=metric, y='protein', color='white', data=plot_df, showfliers=False, ax=ax_plot)\n",
    "                \n",
    "                cmap = 'Accent' if hue_col=='nuclei_slice_sim' else None\n",
    "                sns.stripplot(x=metric, y='protein', hue=hue_col, data=plot_df, ax=ax_plot, palette=cmap)\n",
    "                ax_plot.set_title(job_id+', '+res)\n",
    "                if j == (n_resolutions-1):\n",
    "                    ax_plot.legend(bbox_to_anchor=(1,1))\n",
    "                else:\n",
    "                    ax_plot.legend([])\n",
    "                #ax_plot.vline(0, )\n",
    "                ax_plot.set_ylabel('')\n",
    "                ax_plot.set_xlim(min_metric, max_metric)\n",
    "            fig.tight_layout(pad=2.0)\n",
    "            plt.show()\n"
   ]
  },
  {
   "cell_type": "markdown",
   "id": "01850f29",
   "metadata": {},
   "source": [
    "# Boxplots stratified by slice-slice similarity"
   ]
  },
  {
   "cell_type": "code",
   "execution_count": null,
   "id": "24f8fb1a",
   "metadata": {
    "scrolled": true
   },
   "outputs": [],
   "source": [
    "fig, ax = plt.subplots(figsize=(6,4))\n",
    "plot_df = all_evals.loc[:,['protein','pcorr', 'nuclei_slice_sim', 'sample_roi']].drop_duplicates(['protein', 'sample_roi'])\n",
    "plot_df = plot_df.sort_values(by='nuclei_slice_sim')\n",
    "sns.boxplot(x='pcorr', y='protein', data=plot_df, showfliers=True, ax=ax, hue='nuclei_slice_sim', palette='Accent', fliersize=3)\n",
    "#sns.stripplot(x='pcorr', y='protein', data=plot_df, ax=ax, hue='nuclei_slice_sim', palette='Accent', dodge=True)\n",
    "plt.ylabel('')\n",
    "plt.xlabel('Pearson correlation')\n",
    "ax.axvline(0,linestyle='--', color='grey')\n",
    "plt.legend(bbox_to_anchor=(1,1))\n",
    "if not dry_run:\n",
    "    plt.savefig(SAVE_PATH.joinpath(save_fname+'-pcorr_by_nuclei.png'), bbox_inches='tight', dpi=300)\n",
    "    plt.savefig(SAVE_PATH.joinpath(save_fname+'-pcorr_by_nuclei.pdf'), bbox_inches='tight', dpi=300)\n",
    "plt.show()"
   ]
  },
  {
   "cell_type": "code",
   "execution_count": null,
   "id": "662a685a",
   "metadata": {},
   "outputs": [],
   "source": [
    "# overall correlation by metadata (here by roi_loc)\n",
    "col = 'nuclei_slice_sim'#'roi_loc'\n",
    "metric = 'pcorr'\n",
    "agg_df = all_evals.groupby([col,'protein'])[metric].median().to_frame('agg_'+metric).reset_index()\n",
    "agg_df = agg_df.pivot(index='protein', columns=col, values='agg_'+metric)\n",
    "agg_df"
   ]
  },
  {
   "cell_type": "markdown",
   "id": "483098f6",
   "metadata": {},
   "source": [
    "# Growing window analysis"
   ]
  },
  {
   "cell_type": "code",
   "execution_count": null,
   "id": "f540b669",
   "metadata": {},
   "outputs": [],
   "source": [
    "df_all = pd.DataFrame()\n",
    "for avg_kernel in [0,4,16,32,64,75,128,256]:\n",
    "    try:\n",
    "        df = pd.read_csv(project_path.joinpath('results', job_id, data_set+'_eval', sel_epochs[job_id], 'level_2', 'avgkernel_'+str(avg_kernel),'pcorr-eval.csv'), index_col=[0])\n",
    "    except FileNotFoundError:\n",
    "        continue\n",
    "    #df.index.name = 'protein'\n",
    "    #df = df.reset_index(drop=False)\n",
    "    df['avgkernel'] = avg_kernel\n",
    "    df_all = pd.concat([df_all, df])\n",
    "    # plot \n",
    "    fig, ax = plt.subplots(figsize=(5,4))\n",
    "    sns.boxplot(x='pcorr', y='protein', data=df, ax=ax, palette='tab10')#, showfliers=False)#, hue='nuclei_slice_sim', palette='Accent')\n",
    "    #sns.stripplot(x='pcorr', y='protein', data=plot_df, ax=ax, hue='nuclei_slice_sim', palette='Accent', dodge=True)\n",
    "    plt.ylabel('')\n",
    "    plt.xlabel('Pearson correlation')\n",
    "    ax.axvline(0, linestyle='--', color='grey')\n",
    "    plt.xlim(-1,1)\n",
    "    plt.title(avg_kernel)\n",
    "    #plt.legend(bbox_to_anchor=(1,1))"
   ]
  },
  {
   "cell_type": "code",
   "execution_count": null,
   "id": "79e674f1",
   "metadata": {},
   "outputs": [],
   "source": [
    "# # Mean of means +/- std\n",
    "# plot_df = df_all.groupby(['avgkernel', 'protein', 'sample_id']).mean().reset_index()\n",
    "# plot_df_means = plot_df.groupby(['avgkernel', 'protein']).mean().reset_index()\n",
    "# # to make xticks equidistant\n",
    "# plot_df = plot_df.sort_values(by=['protein', 'avgkernel'])\n",
    "# plot_df['avgkernel'] = [str(x) for x in plot_df['avgkernel']]\n",
    "# plot_df_means = plot_df_means.sort_values(by=['protein', 'avgkernel'])\n",
    "# plot_df_means['avgkernel'] = [str(x) for x in plot_df_means['avgkernel']]\n",
    "\n",
    "# fig, ax = plt.subplots(figsize=(5,4))\n",
    "# sns.scatterplot(x='avgkernel', y='pcorr', data=plot_df_means, hue='protein', palette='tab10')\n",
    "# sns.lineplot(x='avgkernel', y='pcorr', data=plot_df, hue='protein', palette='tab10', legend=False,\n",
    "#             estimator='mean')\n",
    "# ax.axhline(0,linestyle='--', color='grey')\n",
    "# plt.ylabel('Mean Pearson correlation')\n",
    "# plt.xlabel('Averaging kernel size')\n",
    "# plt.legend(bbox_to_anchor=(1,1))"
   ]
  },
  {
   "cell_type": "code",
   "execution_count": null,
   "id": "1265ec91",
   "metadata": {},
   "outputs": [],
   "source": [
    "for agg_method in ['mean', 'median']:\n",
    "    fig, ax = plt.subplots(figsize=(5,4))\n",
    "    if agg_method == 'mean':\n",
    "        plot_df = df_all.groupby(['avgkernel', 'protein']).pcorr.mean()\n",
    "    elif agg_method == 'median':\n",
    "        plot_df = df_all.groupby(['avgkernel', 'protein']).pcorr.median()\n",
    "    plot_df = plot_df.to_frame(agg_method+'_pcorr').reset_index()\n",
    "    # to make xticks equidistant\n",
    "    plot_df = plot_df.sort_values(by=['protein', 'avgkernel'])\n",
    "    plot_df['avgkernel'] = [str(x) for x in plot_df['avgkernel']]\n",
    "    sns.scatterplot(x='avgkernel', y=agg_method+'_pcorr', data=plot_df, hue='protein', palette='tab10')\n",
    "    sns.lineplot(x='avgkernel', y=agg_method+'_pcorr', data=plot_df, hue='protein', palette='tab10', legend=False)\n",
    "    ax.axhline(0,linestyle='--', color='grey')\n",
    "    plt.ylabel(agg_method.capitalize()+' Pearson correlation')\n",
    "    plt.xlabel('Averaging kernel size')\n",
    "    plt.legend(bbox_to_anchor=(1,1))\n",
    "    if not dry_run:\n",
    "        plt.savefig(SAVE_PATH.joinpath(save_fname+'-pcorr_growing_'+agg_method+'.png'), bbox_inches='tight', dpi=300)\n",
    "        plt.savefig(SAVE_PATH.joinpath(save_fname+'-pcorr_growing_'+agg_method+'.pdf'), bbox_inches='tight', dpi=300)\n",
    "    plt.show()"
   ]
  },
  {
   "cell_type": "markdown",
   "id": "40aed39d",
   "metadata": {},
   "source": [
    "# Poor ROIs\n",
    "Identify problematic ROIs (on which the model performs poorly)"
   ]
  },
  {
   "cell_type": "code",
   "execution_count": null,
   "id": "9bcd2b2c",
   "metadata": {},
   "outputs": [],
   "source": [
    "# based on which metric to perform selection\n",
    "sel_metric = 'pcorr'\n",
    "# based on which proteins to perform selection (can also be a selected one, eg ['MelanA'])\n",
    "sel_proteins = sorted(all_evals.protein.unique())\n",
    "# aggregation method (across proteins) {mean, median, perc_proteins_above_thrs}\n",
    "agg_method = 'median'#'perc_proteins_above_thrs'#'mean'\n",
    "# threshold for counting \"bad\" proteins (only used if perc_proteins_above_thrs)\n",
    "thrs = 0\n",
    "# how many ROI names to return\n",
    "bottom_n = 5\n",
    "# whether higher values are better (True for all current metrics)\n",
    "higher_is_better = True\n",
    "\n",
    "poor_df = all_evals.loc[all_evals.protein.isin(sel_proteins),['sample_roi', sel_metric]]\n",
    "if agg_method == 'mean':\n",
    "    poor_df = poor_df.groupby('sample_roi')[sel_metric].mean().to_frame('agg_'+sel_metric)\n",
    "elif agg_method == 'median':\n",
    "    poor_df = poor_df.groupby('sample_roi')[sel_metric].median().to_frame('agg_'+sel_metric)\n",
    "elif agg_method == 'perc_proteins_above_thrs':\n",
    "    poor_df = poor_df.groupby('sample_roi')[sel_metric].apply(lambda x: round(sum(x>thrs)/len(x),2)).to_frame('agg_'+sel_metric)\n",
    "else:\n",
    "    print('Selected aggregation method not supported!')\n",
    "poor_df = poor_df.sort_values(by='agg_'+sel_metric, ascending=1-higher_is_better)\n",
    "poor_df.tail(bottom_n)"
   ]
  },
  {
   "cell_type": "code",
   "execution_count": null,
   "id": "2452c86b",
   "metadata": {},
   "outputs": [],
   "source": [
    "poor_df.head(bottom_n)"
   ]
  },
  {
   "cell_type": "markdown",
   "id": "f0360ac6",
   "metadata": {},
   "source": [
    "# CW-SSIM"
   ]
  },
  {
   "cell_type": "code",
   "execution_count": null,
   "id": "0ae90b0c",
   "metadata": {},
   "outputs": [],
   "source": [
    "cwssim_path = '/raid/sonali/project_mvs/results/'+job_id+'/'+data_set+'_eval/'+sel_epochs[job_id]+'/level_2/cwssim_eval_nb.csv'\n",
    "if os.path.exists(cwssim_path):\n",
    "    cwssim_df_all = pd.read_csv(cwssim_path)\n",
    "    plot_df = cwssim_df_all.reset_index()\n",
    "    plot_df = plot_df.merge(nuclei_pcorr.reset_index(), on='sample_roi', how='left')\n",
    "\n",
    "    fig, ax = plt.subplots(figsize=(6,4))\n",
    "    sns.boxplot(x='cwssim_30', y='protein', data=plot_df.sort_values(by=['nuclei_slice_sim', 'protein']), showfliers=True,\n",
    "                fliersize=3, ax=ax, hue='nuclei_slice_sim', palette='Accent')\n",
    "    plt.ylabel('')\n",
    "    plt.xlabel('CW-SSIM')\n",
    "    plt.xlim(0-0.05,1+0.05)\n",
    "    plt.legend(bbox_to_anchor=(1,1))\n",
    "    if not dry_run:\n",
    "        plt.savefig(SAVE_PATH.joinpath(save_fname+'-cwssim_by_nuclei.png'), bbox_inches='tight', dpi=300)\n",
    "        plt.savefig(SAVE_PATH.joinpath(save_fname+'-cwssim_by_nuclei.pdf'), bbox_inches='tight', dpi=300)\n",
    "    plt.show()\n"
   ]
  },
  {
   "cell_type": "markdown",
   "id": "a4e5ec60",
   "metadata": {},
   "source": [
    "# Binarization-based score plots (dice, densitycorr, overlap)"
   ]
  },
  {
   "cell_type": "code",
   "execution_count": null,
   "id": "e4c44fb4",
   "metadata": {},
   "outputs": [],
   "source": [
    "metric = 'dice' #'densitycorr' #'dice'\n",
    "hue_cols = ['sample_id','status', 'subtype_group','cd8_phenotype_revised', 'nuclei_slice_sim']\n",
    "\n",
    "if metric in eval_cols:\n",
    "    id_cols = ['protein','sample_id','roi', 'subtype_group', 'cd8_phenotype_revised', 'status','nuclei_slice_sim']\n",
    "    dice_cols = [x for x in all_evals.columns if metric in x]\n",
    "    dice_cols.extend(id_cols)\n",
    "    dice_df = all_evals.loc[:,dice_cols]\n",
    "    dice_df = dice_df.melt(id_vars=id_cols, var_name='thrs', value_name=metric)\n",
    "    dice_df['thrs'] = [float(x.split('_')[-1]) for x in dice_df['thrs']]\n",
    "    display(dice_df.head(2))\n",
    "\n",
    "    for protein in sorted(dice_df.protein.unique()):\n",
    "        for hue_col in hue_cols:\n",
    "            plt.figure(figsize=(8,5))\n",
    "            sns.boxplot(x='thrs', y=metric, data=dice_df.loc[dice_df.protein==protein,:], color='lightgrey')\n",
    "            sns.stripplot(x='thrs', y=metric, data=dice_df.loc[dice_df.protein==protein,:], hue=hue_col, alpha=0.6)\n",
    "            plt.legend(bbox_to_anchor=(1,1))\n",
    "            plt.xticks(rotation=90)\n",
    "            plt.title(protein)\n",
    "            plt.show()"
   ]
  }
 ],
 "metadata": {
  "kernelspec": {
   "display_name": "Python 3",
   "language": "python",
   "name": "python3"
  },
  "language_info": {
   "codemirror_mode": {
    "name": "ipython",
    "version": 3
   },
   "file_extension": ".py",
   "mimetype": "text/x-python",
   "name": "python",
   "nbconvert_exporter": "python",
   "pygments_lexer": "ipython3",
   "version": "3.8.12"
  }
 },
 "nbformat": 4,
 "nbformat_minor": 5
}
