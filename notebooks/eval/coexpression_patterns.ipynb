{
 "cells": [
  {
   "cell_type": "code",
   "execution_count": null,
   "id": "d001255f",
   "metadata": {},
   "outputs": [],
   "source": [
    "import os\n",
    "import numpy as np\n",
    "import pandas as pd\n",
    "from pathlib import Path\n",
    "import tifffile\n",
    "import json\n",
    "\n",
    "import matplotlib.pyplot as plt\n",
    "import seaborn as sns\n",
    "import sys \n",
    "root_code = os.path.dirname(os.path.dirname(os.getcwd()))\n",
    "sys.path.insert(0, root_code)\n",
    "\n",
    "from codebase.utils.constants import *\n",
    "from codebase.utils.eval_utils import *"
   ]
  },
  {
   "cell_type": "code",
   "execution_count": null,
   "id": "2047ec6d",
   "metadata": {},
   "outputs": [],
   "source": [
    "def plot_triangle_heatmap(df_corr, ax=None, title='', cbar_title='Spearman correlation coefficient'):\n",
    "    mask = np.triu(df_corr)\n",
    "    for i in range(mask.shape[0]):\n",
    "        mask[i,i] = 1\n",
    "    ax = sns.heatmap(df_corr, vmin=-1,vmax=1, cmap='RdBu_r', annot=True, fmt='.2f',\n",
    "               cbar_kws={'label':cbar_title}, ax=ax, mask=mask)\n",
    "    ax.set_title(title)\n",
    "    \n",
    "def plot_masked_heatmap(df_corr, ax=None, title='', cbar_title='Spearman correlation coefficient'):\n",
    "    mask = pd.DataFrame(np.zeros(df_corr.shape), index=df_corr.index, columns=df_corr.columns)\n",
    "    for i in range(mask.shape[0]):\n",
    "        mask.iloc[i,i] = 1\n",
    "    mask = mask.to_numpy()\n",
    "    ax = sns.heatmap(df_corr, vmin=-1,vmax=1, cmap='RdBu_r', annot=True, fmt='.2f',\n",
    "               cbar_kws={'label':cbar_title}, ax=ax, mask=mask)\n",
    "    ax.set_title(title)\n",
    "    "
   ]
  },
  {
   "cell_type": "code",
   "execution_count": null,
   "id": "55b416ba",
   "metadata": {},
   "outputs": [],
   "source": [
    "project_path = Path('/raid/sonali/project_mvs/') #Path('/cluster/work/grlab/projects/projects2021-multivstain/')\n",
    "data_set = 'test'\n",
    "resolution = 'level_2'\n",
    "dry_run = True #False\n",
    "\n",
    "submission_id=\"mj3pqeyk_dataaug-v2-flip_split3_selected-snr_no-wt_no-checkerboard\"\n",
    "\n",
    "# which epoch to use (best, last, or specified)\n",
    "epoch = get_best_epoch_w_imgs(project_path, submission_id)\n",
    "#epoch = get_last_epoch_w_imgs(project_path, submission_id)\n",
    "#epoch = 'epoch93-1'\n",
    "print(epoch)\n",
    "\n",
    "# In case want to plot the current results against another job id (like in MICCAI submission), need to\n",
    "# 1. Run the notebook for the other job id (comparator), with dry_run=False\n",
    "# 2. Paste the absolute path to the coexpression_sdplot_preddf.csv file\n",
    "add_comparison = '/raid/sonali/project_mvs/results/1kh90kst_dataaug-v2-flip_split3_pseudo_multiplex_selected-snr-set_no-wt_no-checkerboard/test_pics/epoch87-1/level_2/1kh90kst-coexpression_sdplot_preddf.csv'\n",
    "# else set add_comparison to None\n",
    "# add_comparison = None\n",
    "\n",
    "\n",
    "# aggregation name for GT\n",
    "gt_prep = 'agg_masked_data-raw_clip99_arc_otsu3_std_minmax_split3-r5'"
   ]
  },
  {
   "cell_type": "code",
   "execution_count": null,
   "id": "d1e80b71",
   "metadata": {},
   "outputs": [],
   "source": [
    "DATA_DIR = project_path.joinpath(DATA_DIR)\n",
    "RESULTS_DIR = project_path.joinpath(RESULTS_DIR)\n",
    "GT_PATH = DATA_DIR.joinpath('imc_updated', gt_prep)\n",
    "PRED_PATH = RESULTS_DIR.joinpath(submission_id, data_set+'_scdata', epoch, resolution)\n",
    "SAVE_PATH = RESULTS_DIR.joinpath(submission_id,data_set+'_pics', epoch, resolution)\n",
    "if not os.path.exists(SAVE_PATH):\n",
    "    SAVE_PATH.mkdir(parents=True, exist_ok=False)\n",
    "save_fname = submission_id.split('_')[0]\n",
    "\n",
    "# load job args\n",
    "job_args = json.load(open(RESULTS_DIR.joinpath(submission_id, 'args.txt')))\n",
    "cv_split = job_args['cv_split']\n",
    "cv_splits = json.load(open(project_path.joinpath(CV_SPLIT_ROIS_PATH)))\n",
    "s_rois = cv_splits[cv_split][data_set] #can also specify one ROI by s_rois=['MECADAC_F3']"
   ]
  },
  {
   "cell_type": "markdown",
   "id": "8a9ad3fb",
   "metadata": {},
   "source": [
    "# Plot internal correlation structure in GT and predictions"
   ]
  },
  {
   "cell_type": "code",
   "execution_count": null,
   "id": "47524d36",
   "metadata": {
    "scrolled": true
   },
   "outputs": [],
   "source": [
    "df_corr_agg = dict()\n",
    "for s_roi in s_rois:\n",
    "    print(s_roi)\n",
    "    pred = pd.read_csv(PRED_PATH.joinpath(s_roi+'.tsv'), sep='\\t', index_col=[0])\n",
    "    pred = pred.loc[:,~pred.columns.isin(['sample_roi', 'X', 'Y', 'radius'])]\n",
    "    print('pred NaNs: '+str(sum(pred.isna().sum(axis=1)>0))+' objects')\n",
    "    gt = pd.read_csv(GT_PATH.joinpath(s_roi+'.tsv'), sep='\\t', index_col=[0])\n",
    "    gt = gt.loc[:,pred.columns]\n",
    "    print('gt NaNs: '+str(sum(gt.isna().sum(axis=1)>0))+' objects')\n",
    "    \n",
    "    # gt internal correlation\n",
    "    gt_corr = gt.corr('spearman')\n",
    "    gt_corr = gt_corr.where(np.tril(np.ones(gt_corr.shape)).astype(bool)).fillna(0)\n",
    "    # pred internal correlation\n",
    "    pred_corr = pred.corr('spearman')\n",
    "    pred_corr = pred_corr.where(np.triu(np.ones(pred_corr.shape)).astype(bool)).fillna(0)\n",
    "    df_corr = gt_corr+pred_corr\n",
    "    # make sure the diagonal is one\n",
    "    for i in range(df_corr.shape[0]):\n",
    "        df_corr.iloc[i,i] = 1\n",
    "        \n",
    "    df_corr_agg[s_roi] = df_corr\n",
    "    # plot the co-expression pattern\n",
    "    plt.figure(figsize=(8,6))\n",
    "    plot_masked_heatmap(df_corr, ax=None, title=s_roi+'\\nBottom triangle: GT \\nTop triangle: Prediction')\n",
    "    plt.show()"
   ]
  },
  {
   "cell_type": "markdown",
   "id": "2c68ddfc",
   "metadata": {},
   "source": [
    "# Plot aggregated metrics: mean and standard deviation"
   ]
  },
  {
   "cell_type": "code",
   "execution_count": null,
   "id": "caecc374",
   "metadata": {},
   "outputs": [],
   "source": [
    "df_corr_mean = pd.DataFrame(np.zeros(df_corr.shape), index=df_corr.index, columns=df_corr.columns)\n",
    "for k in df_corr_agg.keys():\n",
    "    df_corr_mean = df_corr_mean+df_corr_agg[k]\n",
    "df_corr_mean = df_corr_mean/len(df_corr_agg.keys())\n",
    "\n",
    "df_corr_std = pd.DataFrame(np.zeros(df_corr.shape), index=df_corr.index, columns=df_corr.columns)\n",
    "for k in df_corr_agg.keys():\n",
    "    df_corr_std = df_corr_std+(df_corr_agg[k]-df_corr_mean)**2\n",
    "df_corr_std = df_corr_std/len(df_corr_agg.keys())    "
   ]
  },
  {
   "cell_type": "code",
   "execution_count": null,
   "id": "17ce588e",
   "metadata": {
    "scrolled": false
   },
   "outputs": [],
   "source": [
    "plt.figure(figsize=(8,6))\n",
    "plot_masked_heatmap(df_corr_mean, ax=None, title='Mean across ROIs\\nBottom triangle: GT \\nTop triangle: Prediction')\n",
    "if not dry_run:\n",
    "    plt.savefig(SAVE_PATH.joinpath(save_fname+'-coexpression_patterns.png'), bbox_inches='tight', dpi=300)\n",
    "    plt.savefig(SAVE_PATH.joinpath(save_fname+'-coexpression_patterns.pdf'), bbox_inches='tight', dpi=300)\n",
    "plt.show()\n",
    "plt.figure(figsize=(8,6))\n",
    "plot_masked_heatmap(df_corr_std, ax=None, title='Std acorss ROIs\\nBottom triangle: GT \\nTop triangle: Prediction')\n",
    "plt.show()"
   ]
  },
  {
   "cell_type": "markdown",
   "id": "059d85e4",
   "metadata": {},
   "source": [
    "# Merge data for plotting"
   ]
  },
  {
   "cell_type": "code",
   "execution_count": null,
   "id": "5d62718d",
   "metadata": {},
   "outputs": [],
   "source": [
    "def prep_pointplot_df(df_corr, keep_lower=True):\n",
    "    if keep_lower:\n",
    "        plot_df = df_corr.where(np.tril(np.ones(df_corr.shape)).astype(bool))\n",
    "    else:\n",
    "        plot_df = df_corr.where(np.triu(np.ones(df_corr.shape)).astype(bool))\n",
    "    plot_df.index.name = 'protein1'\n",
    "    plot_df = plot_df.reset_index(drop=False).melt(id_vars='protein1', var_name='protein2', value_name='corr_value')\n",
    "    plot_df = plot_df.loc[~plot_df.corr_value.isna(),:]\n",
    "    plot_df = plot_df.loc[plot_df['protein1']!=plot_df['protein2']]\n",
    "    plot_df['protein_pair'] = [' : '.join(sorted([x,y])) for x,y in zip(plot_df['protein1'],plot_df['protein2'])]\n",
    "    plot_df = plot_df.set_index('protein_pair')\n",
    "    return plot_df\n",
    "\n",
    "# Merge mean values\n",
    "plot_df_gt = prep_pointplot_df(df_corr_mean)\n",
    "plot_df_gt['data_type'] = 'GT'\n",
    "plot_df_gt = plot_df_gt.sort_values(by='corr_value', ascending=True)\n",
    "plot_df_pred = prep_pointplot_df(df_corr_mean, keep_lower=False)\n",
    "plot_df_pred['data_type'] = 'Prediction'\n",
    "plot_df_pred = plot_df_pred.loc[plot_df_gt.index,:]\n",
    "merged = pd.concat([plot_df_gt, plot_df_pred])\n",
    "merged = merged.reset_index(drop=False)"
   ]
  },
  {
   "cell_type": "code",
   "execution_count": null,
   "id": "ffb7d4df",
   "metadata": {},
   "outputs": [],
   "source": [
    "# Merge std values\n",
    "plot_df_gt = prep_pointplot_df(df_corr_std)\n",
    "plot_df_gt['data_type'] = 'GT'\n",
    "plot_df_gt = plot_df_gt.sort_values(by='corr_value', ascending=True)\n",
    "plot_df_pred = prep_pointplot_df(df_corr_std, keep_lower=False)\n",
    "plot_df_pred['data_type'] = 'Prediction'\n",
    "plot_df_pred = plot_df_pred.loc[plot_df_gt.index,:]\n",
    "merged_std = pd.concat([plot_df_gt, plot_df_pred])\n",
    "merged_std = merged_std.reset_index(drop=False)\n",
    "merged_std.columns = [x.replace('corr_value', 'corr_std') for x in merged_std.columns]\n",
    "\n",
    "merged = merged.merge(merged_std, on=['protein_pair', 'data_type'], how='left')"
   ]
  },
  {
   "cell_type": "markdown",
   "id": "06ea5d26",
   "metadata": {},
   "source": [
    "# Dotplot with shadows depicting standard deviation"
   ]
  },
  {
   "cell_type": "code",
   "execution_count": null,
   "id": "3a02a509",
   "metadata": {
    "scrolled": true
   },
   "outputs": [],
   "source": [
    "if add_comparison is not None:\n",
    "    save_fname = save_fname+'_comp_'+add_comparison.split('/')[-1].split('-')[0]\n",
    "\n",
    "fig, ax = plt.subplots(figsize=(10,3))\n",
    "plt.grid(True, color='lightgrey', linestyle='-', linewidth=0.5, alpha=0.6)\n",
    "\n",
    "merged_gt = merged.loc[merged['data_type']=='GT',:]\n",
    "ax.scatter(merged_gt['protein_pair'], merged_gt['corr_value'], color='tab:blue', alpha=0.8)\n",
    "lower = merged_gt['corr_value'] - merged_gt['corr_std']\n",
    "upper = merged_gt['corr_value'] + merged_gt['corr_std']\n",
    "ax.fill_between(merged_gt['protein_pair'],lower,upper, alpha=0.2, color='tab:blue')\n",
    "\n",
    "merged_pred = merged.loc[merged['data_type']=='Prediction',:]\n",
    "ax.scatter(merged_pred['protein_pair'], merged_pred['corr_value'], color='tab:orange',alpha=0.8)\n",
    "lower = merged_pred['corr_value'] - merged_pred['corr_std']\n",
    "upper = merged_pred['corr_value'] + merged_pred['corr_std']\n",
    "ax.fill_between(merged_pred['protein_pair'],lower,upper, alpha=0.2, color='tab:orange')\n",
    "\n",
    "if add_comparison is not None:\n",
    "    merged_comp = pd.read_csv(add_comparison)\n",
    "    if add_comparison.split('/')[-1].split('-')[0]=='1kh90kst':\n",
    "        empty_prots = ['CD31', 'CD16', 'CD20']\n",
    "    merged_comp['prot1'] = [x.split(' : ')[0] for x in merged_comp['protein_pair']]\n",
    "    merged_comp['prot2'] = [x.split(' : ')[1] for x in merged_comp['protein_pair']]\n",
    "    merged_comp = merged_comp.loc[~merged_comp.prot1.isin(empty_prots),:]\n",
    "    merged_comp = merged_comp.loc[~merged_comp.prot2.isin(empty_prots),:]\n",
    "\n",
    "    \n",
    "    ax.scatter(merged_comp['protein_pair'], merged_comp['corr_value'], color='tab:green',alpha=0.8)\n",
    "    lower = merged_comp['corr_value'] - merged_comp['corr_std']\n",
    "    upper = merged_comp['corr_value'] + merged_comp['corr_std']\n",
    "    ax.fill_between(merged_comp['protein_pair'],lower,upper, alpha=0.2, color='tab:green')\n",
    "    \n",
    "\n",
    "plt.xticks(rotation=90, ha='center', va='top')\n",
    "plt.ylim(-0.5,1)\n",
    "plt.xlim(-1,merged_pred.protein_pair.nunique())\n",
    "plt.axhline(0, linestyle='--', color='grey')\n",
    "plt.ylabel('Spearman correlation coefficient')\n",
    "if not dry_run:\n",
    "    merged_pred.to_csv(SAVE_PATH.joinpath(save_fname+'-coexpression_sdplot_preddf.csv'))\n",
    "    plt.savefig(SAVE_PATH.joinpath(save_fname+'-coexpression_sdplot.png'), bbox_inches='tight', dpi=300)\n",
    "    plt.savefig(SAVE_PATH.joinpath(save_fname+'-coexpression_sdplot.pdf'), bbox_inches='tight', dpi=300)\n",
    "\n",
    "plt.show()"
   ]
  },
  {
   "cell_type": "markdown",
   "id": "9f22711b",
   "metadata": {},
   "source": [
    "# Dotplot with error bars"
   ]
  },
  {
   "cell_type": "code",
   "execution_count": null,
   "id": "0e8b66fd",
   "metadata": {},
   "outputs": [],
   "source": [
    "alpha =0.6\n",
    "fig, ax = plt.subplots(figsize=(10,3))\n",
    "plt.grid(True, color='lightgrey', linestyle='-', linewidth=0.5, alpha=0.6)\n",
    "\n",
    "merged_gt = merged.loc[merged['data_type']=='GT',:]\n",
    "ax.scatter(merged_gt['protein_pair'], merged_gt['corr_value'], color='tab:blue', alpha=alpha)\n",
    "ax.errorbar(merged_gt['protein_pair'], merged_gt['corr_value'], color='tab:blue', yerr=merged_gt['corr_std'], fmt='.')\n",
    "\n",
    "merged_pred = merged.loc[merged['data_type']=='Prediction',:]\n",
    "ax.scatter(merged_pred['protein_pair'], merged_pred['corr_value'], color='tab:orange', alpha=alpha)\n",
    "ax.errorbar(merged_pred['protein_pair'], merged_pred['corr_value'], color='tab:orange', yerr=merged_pred['corr_std'], fmt='.')\n",
    "\n",
    "if add_comparison is not None:\n",
    "    merged_comp = pd.read_csv(add_comparison)\n",
    "    if add_comparison.split('/')[-1].split('-')[0]=='1kh90kst':\n",
    "        empty_prots = ['CD31', 'CD16', 'CD20']\n",
    "    merged_comp.loc[[(x.split(' : ')[0] in empty_prots or x.split(' : ')[1] in empty_prots) for x in merged_comp['protein_pair']],'corr_value'] = np.nan\n",
    "    merged_comp.loc[[(x.split(' : ')[0] in empty_prots or x.split(' : ')[1] in empty_prots) for x in merged_comp['protein_pair']],'corr_std'] = np.nan\n",
    "\n",
    "    \n",
    "    ax.scatter(merged_comp['protein_pair'], merged_comp['corr_value'], color='tab:green', alpha=alpha)\n",
    "    ax.errorbar(merged_comp['protein_pair'], merged_comp['corr_value'], color='tab:green', yerr=merged_comp['corr_std'], fmt='.')\n",
    "\n",
    "plt.xticks(rotation=90, ha='center', va='top')\n",
    "plt.ylim(-0.5,1)\n",
    "plt.xlim(-1,merged_pred.protein_pair.nunique())\n",
    "plt.axhline(0, linestyle='--', color='grey')\n",
    "plt.ylabel('Spearman correlation coefficient')\n",
    "if not dry_run:\n",
    "    plt.savefig(SAVE_PATH.joinpath(save_fname+'-coexpression_sdbarplot.png'), bbox_inches='tight', dpi=300)\n",
    "    plt.savefig(SAVE_PATH.joinpath(save_fname+'-coexpression_sdbarplot.pdf'), bbox_inches='tight', dpi=300)\n",
    "\n",
    "plt.show()"
   ]
  },
  {
   "cell_type": "markdown",
   "id": "794a9a8f",
   "metadata": {},
   "source": [
    "# Plot of the correspondence of internal structure between GT and predictions"
   ]
  },
  {
   "cell_type": "code",
   "execution_count": null,
   "id": "1898e528",
   "metadata": {},
   "outputs": [],
   "source": [
    "fig, ax = plt.subplots(figsize=(4.5,3.5))\n",
    "merged_wide = merged.pivot(index='protein_pair', columns='data_type', values='corr_value')\n",
    "sns.scatterplot(x='Prediction', y='GT', data=merged_wide, color='tab:blue', ax=ax)\n",
    "ax.plot([-0.4, 1], [-0.4,1], linestyle='--', color='lightgrey')\n",
    "ax.set_title('Correspondence of internal \\n correlation structure')\n",
    "ax.set_ylabel('GT: Spearman correlation')\n",
    "ax.set_xlabel('Prediction: Spearman correlation')\n",
    "plt.show()\n",
    "\n",
    "fig, ax = plt.subplots(figsize=(4.5,3.5))\n",
    "g = sns.regplot(x='Prediction', y='GT', data=merged_wide, ax=ax)\n",
    "ax.plot([-0.4, 1], [-0.4,1], linestyle='--', color='lightgrey')\n",
    "ax.set_title('Correspondence of internal \\n correlation structure')\n",
    "ax.set_ylabel('GT: Spearman correlation')\n",
    "ax.set_xlabel('Prediction: Spearman correlation')\n",
    "plt.show()\n",
    "\n"
   ]
  }
 ],
 "metadata": {
  "kernelspec": {
   "display_name": "Python 3",
   "language": "python",
   "name": "python3"
  },
  "language_info": {
   "codemirror_mode": {
    "name": "ipython",
    "version": 3
   },
   "file_extension": ".py",
   "mimetype": "text/x-python",
   "name": "python",
   "nbconvert_exporter": "python",
   "pygments_lexer": "ipython3",
   "version": "3.8.12"
  }
 },
 "nbformat": 4,
 "nbformat_minor": 5
}
